{
  "nbformat": 4,
  "nbformat_minor": 0,
  "metadata": {
    "colab": {
      "provenance": [],
      "authorship_tag": "ABX9TyOQPpA4MHovkeEGqR1Uvqi8"
    },
    "kernelspec": {
      "name": "python3",
      "display_name": "Python 3"
    },
    "language_info": {
      "name": "python"
    }
  },
  "cells": [
    {
      "cell_type": "markdown",
      "source": [
        "## Lesson - week 2\n",
        "### Markdown\n",
        "The file is made of cells. These are code (python) and text cells (markdown text). You can format it with appropriate commands. E-life - journal with the biggest impact factor in life sciences."
      ],
      "metadata": {
        "id": "BnNKAemY5bQu"
      }
    },
    {
      "cell_type": "code",
      "source": [
        "2 + 2"
      ],
      "metadata": {
        "colab": {
          "base_uri": "https://localhost:8080/"
        },
        "id": "8EG7I9mP8uRt",
        "outputId": "d610a5b0-bb13-4a91-ccf9-e26520dafe19"
      },
      "execution_count": null,
      "outputs": [
        {
          "output_type": "execute_result",
          "data": {
            "text/plain": [
              "4"
            ]
          },
          "metadata": {},
          "execution_count": 23
        }
      ]
    },
    {
      "cell_type": "code",
      "source": [
        "52 - 9"
      ],
      "metadata": {
        "id": "gtojIG-W9Cc8",
        "colab": {
          "base_uri": "https://localhost:8080/"
        },
        "outputId": "9c17fea2-c639-4e5c-f834-6ddab7cfdcc6"
      },
      "execution_count": null,
      "outputs": [
        {
          "output_type": "execute_result",
          "data": {
            "text/plain": [
              "43"
            ]
          },
          "metadata": {},
          "execution_count": 24
        }
      ]
    },
    {
      "cell_type": "code",
      "source": [
        "2 * 6"
      ],
      "metadata": {
        "colab": {
          "base_uri": "https://localhost:8080/"
        },
        "id": "1Zud8ZzC9a2G",
        "outputId": "b7412a62-ac7e-4c2d-8b1b-446b31bd002b"
      },
      "execution_count": null,
      "outputs": [
        {
          "output_type": "execute_result",
          "data": {
            "text/plain": [
              "12"
            ]
          },
          "metadata": {},
          "execution_count": 25
        }
      ]
    },
    {
      "cell_type": "code",
      "source": [
        "50 / 5"
      ],
      "metadata": {
        "colab": {
          "base_uri": "https://localhost:8080/"
        },
        "id": "fKZGdlXv9dRG",
        "outputId": "2b295a8d-7e32-4b8f-a647-a78207c6db39"
      },
      "execution_count": null,
      "outputs": [
        {
          "output_type": "execute_result",
          "data": {
            "text/plain": [
              "10.0"
            ]
          },
          "metadata": {},
          "execution_count": 26
        }
      ]
    },
    {
      "cell_type": "markdown",
      "source": [
        "### Decimal places during division\n",
        "When we divide the numbers python automatically gives us decimal places. The reason for it is"
      ],
      "metadata": {
        "id": "zDTLp1_D9iPH"
      }
    },
    {
      "cell_type": "code",
      "source": [
        "2 + ((123 / 2) / 3.5) - 1"
      ],
      "metadata": {
        "colab": {
          "base_uri": "https://localhost:8080/"
        },
        "id": "aZbCKI6k90NU",
        "outputId": "d7377449-c77e-4208-ed20-3e234507c303"
      },
      "execution_count": null,
      "outputs": [
        {
          "output_type": "execute_result",
          "data": {
            "text/plain": [
              "18.571428571428573"
            ]
          },
          "metadata": {},
          "execution_count": 27
        }
      ]
    },
    {
      "cell_type": "code",
      "source": [
        "4 ** 2"
      ],
      "metadata": {
        "id": "IRt92QjX9-Mn",
        "outputId": "ee4cdd34-8d21-4bb5-d53c-bb2150d6f948",
        "colab": {
          "base_uri": "https://localhost:8080/"
        }
      },
      "execution_count": null,
      "outputs": [
        {
          "output_type": "execute_result",
          "data": {
            "text/plain": [
              "16"
            ]
          },
          "metadata": {},
          "execution_count": 28
        }
      ]
    },
    {
      "cell_type": "code",
      "source": [
        "16 ** (1/2)"
      ],
      "metadata": {
        "id": "5qncrWny-SKW",
        "outputId": "edd909b1-d8fa-49d7-ca70-a4f3a6d662dd",
        "colab": {
          "base_uri": "https://localhost:8080/"
        }
      },
      "execution_count": null,
      "outputs": [
        {
          "output_type": "execute_result",
          "data": {
            "text/plain": [
              "4.0"
            ]
          },
          "metadata": {},
          "execution_count": 29
        }
      ]
    },
    {
      "cell_type": "code",
      "source": [
        "52 // 10"
      ],
      "metadata": {
        "id": "aWi2HUiI-pSH",
        "colab": {
          "base_uri": "https://localhost:8080/"
        },
        "outputId": "eded3f4c-69ff-4c2e-f317-20101bed687e"
      },
      "execution_count": null,
      "outputs": [
        {
          "output_type": "execute_result",
          "data": {
            "text/plain": [
              "5"
            ]
          },
          "metadata": {},
          "execution_count": 30
        }
      ]
    },
    {
      "cell_type": "markdown",
      "source": [
        "### \"//\" operator\n",
        "The \"//\" operator does the division to the nearest total number."
      ],
      "metadata": {
        "id": "-K97Bqx-_IKo"
      }
    },
    {
      "cell_type": "code",
      "source": [
        "print('Hello world!')"
      ],
      "metadata": {
        "colab": {
          "base_uri": "https://localhost:8080/"
        },
        "id": "tSqfxxDP_XHG",
        "outputId": "ad2503a6-6e30-42da-8348-b3ec06ab540e"
      },
      "execution_count": null,
      "outputs": [
        {
          "output_type": "stream",
          "name": "stdout",
          "text": [
            "Hello world!\n"
          ]
        }
      ]
    },
    {
      "cell_type": "code",
      "source": [
        "2 ** 100"
      ],
      "metadata": {
        "colab": {
          "base_uri": "https://localhost:8080/"
        },
        "id": "BYJvkX9PCg-o",
        "outputId": "8ffadbc2-e88b-4cde-c64d-79311dd19d43"
      },
      "execution_count": null,
      "outputs": [
        {
          "output_type": "execute_result",
          "data": {
            "text/plain": [
              "1267650600228229401496703205376"
            ]
          },
          "metadata": {},
          "execution_count": 32
        }
      ]
    },
    {
      "cell_type": "code",
      "source": [
        "10 ** (122 + .23645)"
      ],
      "metadata": {
        "colab": {
          "base_uri": "https://localhost:8080/"
        },
        "id": "Bol-Lt0iDb5I",
        "outputId": "c6627677-2ee1-4040-df17-d7364c0f5cfc"
      },
      "execution_count": null,
      "outputs": [
        {
          "output_type": "execute_result",
          "data": {
            "text/plain": [
              "1.7236536366447863e+122"
            ]
          },
          "metadata": {},
          "execution_count": 33
        }
      ]
    },
    {
      "cell_type": "code",
      "source": [
        "number = 10 ** (122 + .23645)\n",
        "number / 13"
      ],
      "metadata": {
        "colab": {
          "base_uri": "https://localhost:8080/"
        },
        "id": "x9uhQHrtDjzZ",
        "outputId": "b18b1b37-e494-4e61-f312-15894a2e1922"
      },
      "execution_count": null,
      "outputs": [
        {
          "output_type": "execute_result",
          "data": {
            "text/plain": [
              "1.3258874128036818e+121"
            ]
          },
          "metadata": {},
          "execution_count": 34
        }
      ]
    },
    {
      "cell_type": "code",
      "source": [
        "number"
      ],
      "metadata": {
        "id": "1Hp_msAEDuyn",
        "outputId": "6b42ab89-e4b4-48a2-ac34-8b42c0fd552a",
        "colab": {
          "base_uri": "https://localhost:8080/"
        }
      },
      "execution_count": null,
      "outputs": [
        {
          "output_type": "execute_result",
          "data": {
            "text/plain": [
              "1.7236536366447863e+122"
            ]
          },
          "metadata": {},
          "execution_count": 35
        }
      ]
    },
    {
      "cell_type": "code",
      "source": [
        "a = 5\n",
        "b = 8\n",
        "print(a * b, a+b)\n",
        "c = 'Hello and hi there.'\n",
        "print(c, 'We have got a=5 and b=8. Here are the results of some actions done on them:', a + b, a * b)"
      ],
      "metadata": {
        "colab": {
          "base_uri": "https://localhost:8080/"
        },
        "id": "H5edqyRgEhCi",
        "outputId": "3df2b173-e512-48fa-e16e-d4f5bfca21d1"
      },
      "execution_count": null,
      "outputs": [
        {
          "output_type": "stream",
          "name": "stdout",
          "text": [
            "40 13\n",
            "Hello and hi there. We have got a=5 and b=8. Here are the results of some actions done on them: 13 40\n"
          ]
        }
      ]
    },
    {
      "cell_type": "markdown",
      "source": [
        "### The order of execution\n",
        "The fact what can be seen as an output depends on the execution order of the cells. In order to do everything in order use the command \"run all\" (ctrl + F9).\n",
        "\n",
        "### Names of variables\n",
        "You cannot use special characters and the name cannot start with a digit. The shorter the name the better and it's better to use only lower cases as you won't mess the names when you work on many of them."
      ],
      "metadata": {
        "id": "KJZuefNOFgjo"
      }
    },
    {
      "cell_type": "code",
      "source": [
        "2 == 2"
      ],
      "metadata": {
        "colab": {
          "base_uri": "https://localhost:8080/"
        },
        "id": "shwYiqUrG9Zs",
        "outputId": "13bd695f-949e-4344-f8c5-c134089423ae"
      },
      "execution_count": null,
      "outputs": [
        {
          "output_type": "execute_result",
          "data": {
            "text/plain": [
              "True"
            ]
          },
          "metadata": {},
          "execution_count": 37
        }
      ]
    },
    {
      "cell_type": "code",
      "source": [
        "num = 90"
      ],
      "metadata": {
        "id": "0kED2M5_G-zp"
      },
      "execution_count": null,
      "outputs": []
    },
    {
      "cell_type": "code",
      "source": [
        "num > 20"
      ],
      "metadata": {
        "colab": {
          "base_uri": "https://localhost:8080/"
        },
        "id": "f3vXtL5rHBYp",
        "outputId": "4926376f-eb2e-461d-c84b-0a21c831444b"
      },
      "execution_count": null,
      "outputs": [
        {
          "output_type": "execute_result",
          "data": {
            "text/plain": [
              "True"
            ]
          },
          "metadata": {},
          "execution_count": 40
        }
      ]
    },
    {
      "cell_type": "code",
      "source": [
        "num < 70"
      ],
      "metadata": {
        "colab": {
          "base_uri": "https://localhost:8080/"
        },
        "id": "N9ddTzOtHEg5",
        "outputId": "df5613ba-217a-47e6-a707-d38c102e29e2"
      },
      "execution_count": null,
      "outputs": [
        {
          "output_type": "execute_result",
          "data": {
            "text/plain": [
              "False"
            ]
          },
          "metadata": {},
          "execution_count": 41
        }
      ]
    },
    {
      "cell_type": "markdown",
      "source": [
        "### Logical values\n",
        "In python you can do many logical operations. The main of them are the same as in Rstudio.\n",
        "\n",
        "Instead of using R operators you can write command \"is\" instead of \"==\" but function \"is\" checks whether things are the same type."
      ],
      "metadata": {
        "id": "KBbZ3psoHH8Y"
      }
    },
    {
      "cell_type": "code",
      "source": [
        "type(4)"
      ],
      "metadata": {
        "id": "h2lYogM3Ipdq",
        "outputId": "ba72873b-0cd5-4c83-c95e-301687b8deca",
        "colab": {
          "base_uri": "https://localhost:8080/"
        }
      },
      "execution_count": null,
      "outputs": [
        {
          "output_type": "execute_result",
          "data": {
            "text/plain": [
              "int"
            ]
          },
          "metadata": {},
          "execution_count": 42
        }
      ]
    },
    {
      "cell_type": "code",
      "source": [
        "type(4.0)"
      ],
      "metadata": {
        "id": "FUAiISMvIqnr",
        "outputId": "578e65ba-6efc-4932-c2c7-61c5409456be",
        "colab": {
          "base_uri": "https://localhost:8080/"
        }
      },
      "execution_count": null,
      "outputs": [
        {
          "output_type": "execute_result",
          "data": {
            "text/plain": [
              "float"
            ]
          },
          "metadata": {},
          "execution_count": 43
        }
      ]
    },
    {
      "cell_type": "code",
      "source": [
        "type(\"hello\")"
      ],
      "metadata": {
        "id": "065ECBVEIrmC",
        "outputId": "57798918-8806-4bc8-ab3d-cc5a091d810c",
        "colab": {
          "base_uri": "https://localhost:8080/"
        }
      },
      "execution_count": null,
      "outputs": [
        {
          "output_type": "execute_result",
          "data": {
            "text/plain": [
              "str"
            ]
          },
          "metadata": {},
          "execution_count": 44
        }
      ]
    },
    {
      "cell_type": "code",
      "source": [
        "type(2==2)"
      ],
      "metadata": {
        "colab": {
          "base_uri": "https://localhost:8080/"
        },
        "id": "UI6fJaeEJDyT",
        "outputId": "0adb4362-995f-4015-ef31-cf8e3f0202a0"
      },
      "execution_count": null,
      "outputs": [
        {
          "output_type": "execute_result",
          "data": {
            "text/plain": [
              "bool"
            ]
          },
          "metadata": {},
          "execution_count": 45
        }
      ]
    },
    {
      "cell_type": "code",
      "source": [
        "type(2 is 3)"
      ],
      "metadata": {
        "colab": {
          "base_uri": "https://localhost:8080/"
        },
        "id": "tZFpYikqJFWL",
        "outputId": "dbc07a01-314d-4196-8ef9-8800ef69aaec"
      },
      "execution_count": null,
      "outputs": [
        {
          "output_type": "stream",
          "name": "stderr",
          "text": [
            "<>:1: SyntaxWarning: \"is\" with a literal. Did you mean \"==\"?\n",
            "<>:1: SyntaxWarning: \"is\" with a literal. Did you mean \"==\"?\n",
            "<ipython-input-46-296d347fbe31>:1: SyntaxWarning: \"is\" with a literal. Did you mean \"==\"?\n",
            "  type(2 is 3)\n"
          ]
        },
        {
          "output_type": "execute_result",
          "data": {
            "text/plain": [
              "bool"
            ]
          },
          "metadata": {},
          "execution_count": 46
        }
      ]
    },
    {
      "cell_type": "code",
      "source": [
        "'boy' + 'boy'"
      ],
      "metadata": {
        "colab": {
          "base_uri": "https://localhost:8080/",
          "height": 36
        },
        "id": "Thlh7e9OJ2L8",
        "outputId": "58b33671-fec1-4196-aa2b-2f5b0122272b"
      },
      "execution_count": null,
      "outputs": [
        {
          "output_type": "execute_result",
          "data": {
            "text/plain": [
              "'boyboy'"
            ],
            "application/vnd.google.colaboratory.intrinsic+json": {
              "type": "string"
            }
          },
          "metadata": {},
          "execution_count": 47
        }
      ]
    },
    {
      "cell_type": "code",
      "source": [
        "'boy' * 5"
      ],
      "metadata": {
        "colab": {
          "base_uri": "https://localhost:8080/",
          "height": 36
        },
        "id": "8J-85YFkJ4eb",
        "outputId": "41b4477c-dd95-4de4-d610-ec0d43e0e770"
      },
      "execution_count": null,
      "outputs": [
        {
          "output_type": "execute_result",
          "data": {
            "text/plain": [
              "'boyboyboyboyboy'"
            ],
            "application/vnd.google.colaboratory.intrinsic+json": {
              "type": "string"
            }
          },
          "metadata": {},
          "execution_count": 48
        }
      ]
    },
    {
      "cell_type": "markdown",
      "source": [
        "### Text\n",
        "You can glue few text strings together"
      ],
      "metadata": {
        "id": "mhpjXdh_KK-p"
      }
    },
    {
      "cell_type": "markdown",
      "source": [
        "# HOMEWORK"
      ],
      "metadata": {
        "id": "TRUlqJBLLMYK"
      }
    }
  ]
}