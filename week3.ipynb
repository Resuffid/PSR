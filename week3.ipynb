{
  "nbformat": 4,
  "nbformat_minor": 0,
  "metadata": {
    "colab": {
      "provenance": [],
      "authorship_tag": "ABX9TyMN6qZ4cW8opy2/71ZNBXpj"
    },
    "kernelspec": {
      "name": "python3",
      "display_name": "Python 3"
    },
    "language_info": {
      "name": "python"
    }
  },
  "cells": [
    {
      "cell_type": "markdown",
      "source": [
        "# Zajęcia 9.03.2023\n"
      ],
      "metadata": {
        "id": "MO61Ft-b6GPh"
      }
    },
    {
      "cell_type": "markdown",
      "source": [
        "### Revision from last week"
      ],
      "metadata": {
        "id": "-n2K5o7j7ISz"
      }
    },
    {
      "cell_type": "code",
      "source": [
        "# This is a nice bit of code\n",
        "print(\"Hello world!\")\n",
        "a = 2 + 3\n",
        "print(a)"
      ],
      "metadata": {
        "colab": {
          "base_uri": "https://localhost:8080/"
        },
        "id": "WAxUEiM06O9a",
        "outputId": "a4a176f5-d910-45d5-a19c-2f982012f76a"
      },
      "execution_count": 1,
      "outputs": [
        {
          "output_type": "stream",
          "name": "stdout",
          "text": [
            "hello world\n",
            "5\n"
          ]
        }
      ]
    },
    {
      "cell_type": "code",
      "source": [
        "# Division by 5\n",
        "# Variables:\n",
        "b = 5\n",
        "c = 3\n",
        "\n",
        "# Printing the result\n",
        "print(c / b)"
      ],
      "metadata": {
        "colab": {
          "base_uri": "https://localhost:8080/"
        },
        "id": "nhLDiaLl7P0C",
        "outputId": "5c58477e-584e-448d-deff-fda93f077ecf"
      },
      "execution_count": 4,
      "outputs": [
        {
          "output_type": "stream",
          "name": "stdout",
          "text": [
            "0.6\n"
          ]
        }
      ]
    },
    {
      "cell_type": "markdown",
      "source": [
        "### Operators:\n",
        "- \"==\" (equal)\n",
        "- \"!=\" (not equal)\n",
        "- \"<=\" (less or equal)\n",
        "- \">=\" (more or equal)\n",
        "\n",
        "### Boolean:\n",
        "It's either True or False"
      ],
      "metadata": {
        "id": "5ZDD3gyK8FTS"
      }
    },
    {
      "cell_type": "code",
      "source": [
        "# Boolean\n",
        "a = 2 == 2\n",
        "print(a)\n",
        "type(a)"
      ],
      "metadata": {
        "colab": {
          "base_uri": "https://localhost:8080/"
        },
        "id": "OleOGwst8A2j",
        "outputId": "06b24673-f645-4635-e56d-2e65b06cf9d3"
      },
      "execution_count": 6,
      "outputs": [
        {
          "output_type": "stream",
          "name": "stdout",
          "text": [
            "True\n"
          ]
        },
        {
          "output_type": "execute_result",
          "data": {
            "text/plain": [
              "bool"
            ]
          },
          "metadata": {},
          "execution_count": 6
        }
      ]
    },
    {
      "cell_type": "code",
      "source": [
        "a = 3\n",
        "b = 4\n",
        "a != b"
      ],
      "metadata": {
        "colab": {
          "base_uri": "https://localhost:8080/"
        },
        "id": "KcYvjJzB81Dd",
        "outputId": "893ea85d-d4c7-4bfe-dd3a-e1aae203ac40"
      },
      "execution_count": 7,
      "outputs": [
        {
          "output_type": "execute_result",
          "data": {
            "text/plain": [
              "True"
            ]
          },
          "metadata": {},
          "execution_count": 7
        }
      ]
    },
    {
      "cell_type": "markdown",
      "source": [
        "## Conditional statements"
      ],
      "metadata": {
        "id": "DIJaM6V_EHH1"
      }
    },
    {
      "cell_type": "code",
      "source": [
        "a = 3\n",
        "b = 4\n",
        "if a != b:\n",
        "  print(\"a is not b\")"
      ],
      "metadata": {
        "colab": {
          "base_uri": "https://localhost:8080/"
        },
        "id": "fSLDSXHi9Awh",
        "outputId": "2cb9dd09-fd02-45bc-cdc7-25b162a2d182"
      },
      "execution_count": 10,
      "outputs": [
        {
          "output_type": "stream",
          "name": "stdout",
          "text": [
            "a is not b\n"
          ]
        }
      ]
    },
    {
      "cell_type": "code",
      "source": [
        "a = 3\n",
        "b = 3\n",
        "if a != b:\n",
        "  print(\"a is not b\")\n",
        "else:\n",
        "  print(\"a is b\")"
      ],
      "metadata": {
        "colab": {
          "base_uri": "https://localhost:8080/"
        },
        "id": "pJ5ZT_bq9Riw",
        "outputId": "0198870d-1813-4ed4-8f36-10f0884c8a8e"
      },
      "execution_count": 12,
      "outputs": [
        {
          "output_type": "stream",
          "name": "stdout",
          "text": [
            "a is b\n"
          ]
        }
      ]
    },
    {
      "cell_type": "code",
      "source": [
        "c = 5\n",
        "d = 4\n",
        "if c != d:\n",
        "  print(\"c is not d\")\n",
        "  print(\"This is conditional\")\n",
        "  print(\"Runs nice codes\")\n",
        "else:\n",
        "  print(\"c is d\")\n",
        "  print(\"This is conditional\")\n",
        "  print(\"Runs nice codes\")\n",
        "\n",
        "# Blocks of code\n",
        "# A blank space is needed to separate the codes\n",
        "print(\"after the blocks\")"
      ],
      "metadata": {
        "colab": {
          "base_uri": "https://localhost:8080/"
        },
        "id": "qLWpPnWg-GUn",
        "outputId": "ce71d9ae-2e0b-40f9-9999-367b8e8f834c"
      },
      "execution_count": 13,
      "outputs": [
        {
          "output_type": "stream",
          "name": "stdout",
          "text": [
            "a is b\n",
            "This is conditional\n",
            "Runs nice codes\n",
            "after the blocks\n"
          ]
        }
      ]
    },
    {
      "cell_type": "code",
      "source": [
        "# What about checking smaller/bigger\n",
        "e = 8\n",
        "f = 2\n",
        "if e > f:\n",
        "  print('e is bigger than f')\n",
        "elif e == f:\n",
        "  print('e is equal f')\n",
        "else:\n",
        "  print('e is smaller than f')\n",
        "\n",
        "# One can do multiple elif"
      ],
      "metadata": {
        "colab": {
          "base_uri": "https://localhost:8080/"
        },
        "id": "toPqGyfCAFe0",
        "outputId": "20191bf7-acb2-47f8-d287-ff912b8bae85"
      },
      "execution_count": 15,
      "outputs": [
        {
          "output_type": "stream",
          "name": "stdout",
          "text": [
            "e is bigger than f\n"
          ]
        }
      ]
    },
    {
      "cell_type": "code",
      "source": [
        "p = 'dog'\n",
        "q = 'cat'\n",
        "r = 'duck'\n",
        "\n",
        "# len shows us lenght\n",
        "\n",
        "len(p)"
      ],
      "metadata": {
        "colab": {
          "base_uri": "https://localhost:8080/"
        },
        "id": "eDDoz73_Abs5",
        "outputId": "65c88b6a-cbea-498e-f967-46ddfad008e0"
      },
      "execution_count": 16,
      "outputs": [
        {
          "output_type": "execute_result",
          "data": {
            "text/plain": [
              "3"
            ]
          },
          "metadata": {},
          "execution_count": 16
        }
      ]
    },
    {
      "cell_type": "code",
      "source": [
        "if len(p) == len(q):\n",
        "  print(f'{p} has the same length as {q}')\n",
        "elif len(q) == len(r):\n",
        "  print(f'{q} has the same length as {e}')\n",
        "elif len(r) == len(p):\n",
        "  print(f'{r} has the same length as {p}')\n",
        "elif len(p) > len(q):\n",
        "  print(f'{p} is a longer word than {q}')\n",
        "elif len(q) > len(r):\n",
        "  print(f'{q} is a longer word than {r}')\n",
        "elif len(r) > len(p):\n",
        "  print(f'{r} is a longer word than {p}')\n",
        "elif len(r) > len(q):\n",
        "  print(f'{r} is a longer word than {q}')\n",
        "\n",
        "# Only the first truth works"
      ],
      "metadata": {
        "colab": {
          "base_uri": "https://localhost:8080/"
        },
        "id": "dAtGOPo3BHL-",
        "outputId": "e0732995-792c-4e20-bb5b-b941eb94a046"
      },
      "execution_count": 18,
      "outputs": [
        {
          "output_type": "stream",
          "name": "stdout",
          "text": [
            "dog has the same length as cat\n"
          ]
        }
      ]
    },
    {
      "cell_type": "code",
      "source": [
        "f'Hello'"
      ],
      "metadata": {
        "colab": {
          "base_uri": "https://localhost:8080/",
          "height": 35
        },
        "id": "6GK_Sl2QBrEa",
        "outputId": "ef14a05a-0109-4f52-aa27-c191c4b5a17b"
      },
      "execution_count": 19,
      "outputs": [
        {
          "output_type": "execute_result",
          "data": {
            "text/plain": [
              "'Hello'"
            ],
            "application/vnd.google.colaboratory.intrinsic+json": {
              "type": "string"
            }
          },
          "metadata": {},
          "execution_count": 19
        }
      ]
    },
    {
      "cell_type": "code",
      "source": [
        "f'Hello I am a {q}' # It is an f-string"
      ],
      "metadata": {
        "colab": {
          "base_uri": "https://localhost:8080/",
          "height": 35
        },
        "id": "lupUrsUkCQTY",
        "outputId": "94182baf-4e22-4a07-ecae-b19dbe79a9d3"
      },
      "execution_count": 20,
      "outputs": [
        {
          "output_type": "execute_result",
          "data": {
            "text/plain": [
              "'Hello I am a cat'"
            ],
            "application/vnd.google.colaboratory.intrinsic+json": {
              "type": "string"
            }
          },
          "metadata": {},
          "execution_count": 20
        }
      ]
    },
    {
      "cell_type": "code",
      "source": [
        "f'I am {int((12+26)/2)} years old'\n",
        "\n",
        "# int gives us an integer"
      ],
      "metadata": {
        "colab": {
          "base_uri": "https://localhost:8080/",
          "height": 35
        },
        "id": "tkjQNoy9CWqz",
        "outputId": "3ada2246-e571-491d-87bc-a4ba84e413b3"
      },
      "execution_count": 24,
      "outputs": [
        {
          "output_type": "execute_result",
          "data": {
            "text/plain": [
              "'I am 19 years old'"
            ],
            "application/vnd.google.colaboratory.intrinsic+json": {
              "type": "string"
            }
          },
          "metadata": {},
          "execution_count": 24
        }
      ]
    },
    {
      "cell_type": "code",
      "source": [
        "if len(p) == len(q):\n",
        "  print(f'{p} has the same length as {q}')\n",
        "\n",
        "if len(q) == len(r):\n",
        "  print(f'{q} has the same length as {e}')\n",
        "\n",
        "if len(r) == len(p):\n",
        "  print(f'{r} has the same length as {p}')\n",
        "\n",
        "if len(p) > len(q):\n",
        "  print(f'{p} is a longer word than {q}')\n",
        "\n",
        "if len(q) > len(r):\n",
        "  print(f'{q} is a longer word than {r}')\n",
        "\n",
        "if len(r) > len(p):\n",
        "  print(f'{r} is a longer word than {p}')\n",
        "  \n",
        "if len(r) > len(q):\n",
        "  print(f'{r} is a longer word than {q}')\n",
        "\n",
        "# And now it works - it's need to be an if command, so those are separate codes"
      ],
      "metadata": {
        "colab": {
          "base_uri": "https://localhost:8080/"
        },
        "id": "cUumBgeWCoMM",
        "outputId": "f8931e67-73aa-4103-facf-0ecef7003bc3"
      },
      "execution_count": 25,
      "outputs": [
        {
          "output_type": "stream",
          "name": "stdout",
          "text": [
            "dog has the same length as cat\n",
            "duck is a longer word than dog\n",
            "duck is a longer word than cat\n"
          ]
        }
      ]
    },
    {
      "cell_type": "markdown",
      "source": [
        "### Conditions\n",
        "If you want to test many conditions you need to write many ifs. If we have exclusive conditions we use all if, elif and else"
      ],
      "metadata": {
        "id": "YJ7vrSYeDzDK"
      }
    },
    {
      "cell_type": "markdown",
      "source": [
        "## Formal logic"
      ],
      "metadata": {
        "id": "8tPgqyOoELkQ"
      }
    },
    {
      "cell_type": "code",
      "source": [
        "2 == 2"
      ],
      "metadata": {
        "colab": {
          "base_uri": "https://localhost:8080/"
        },
        "id": "6hZWqKRrDoIi",
        "outputId": "7d2f8886-9c66-414c-e70d-e8459a13f4b3"
      },
      "execution_count": 26,
      "outputs": [
        {
          "output_type": "execute_result",
          "data": {
            "text/plain": [
              "True"
            ]
          },
          "metadata": {},
          "execution_count": 26
        }
      ]
    },
    {
      "cell_type": "code",
      "source": [
        "w, e, r, t = 2, 3, 4, 5"
      ],
      "metadata": {
        "id": "nf-DJFHiEluc"
      },
      "execution_count": 27,
      "outputs": []
    },
    {
      "cell_type": "code",
      "source": [
        "w"
      ],
      "metadata": {
        "colab": {
          "base_uri": "https://localhost:8080/"
        },
        "id": "zkXvPhKzEqZV",
        "outputId": "9eb93e50-c082-4c78-bf88-ce0925a56c54"
      },
      "execution_count": 28,
      "outputs": [
        {
          "output_type": "execute_result",
          "data": {
            "text/plain": [
              "2"
            ]
          },
          "metadata": {},
          "execution_count": 28
        }
      ]
    },
    {
      "cell_type": "code",
      "source": [
        "t"
      ],
      "metadata": {
        "colab": {
          "base_uri": "https://localhost:8080/"
        },
        "id": "L9bkcIxVEsnS",
        "outputId": "493266b0-d455-4f1c-d727-1c2c0bd566cd"
      },
      "execution_count": 29,
      "outputs": [
        {
          "output_type": "execute_result",
          "data": {
            "text/plain": [
              "5"
            ]
          },
          "metadata": {},
          "execution_count": 29
        }
      ]
    },
    {
      "cell_type": "code",
      "source": [
        "t != w"
      ],
      "metadata": {
        "colab": {
          "base_uri": "https://localhost:8080/"
        },
        "id": "gbG2gSBkEtZD",
        "outputId": "983b71dc-c860-42e9-883e-785be7596a8e"
      },
      "execution_count": 30,
      "outputs": [
        {
          "output_type": "execute_result",
          "data": {
            "text/plain": [
              "True"
            ]
          },
          "metadata": {},
          "execution_count": 30
        }
      ]
    },
    {
      "cell_type": "code",
      "source": [
        "w != e != r != t"
      ],
      "metadata": {
        "colab": {
          "base_uri": "https://localhost:8080/"
        },
        "id": "nyFQ4SeIEw3c",
        "outputId": "63084643-95af-45f4-cc5a-8b95ff1a613b"
      },
      "execution_count": 31,
      "outputs": [
        {
          "output_type": "execute_result",
          "data": {
            "text/plain": [
              "True"
            ]
          },
          "metadata": {},
          "execution_count": 31
        }
      ]
    },
    {
      "cell_type": "code",
      "source": [
        "# Logical Conjunction\n",
        "\n",
        "(w != e) and (e != r)"
      ],
      "metadata": {
        "colab": {
          "base_uri": "https://localhost:8080/"
        },
        "id": "OLOyZLuaFDjz",
        "outputId": "94d05b3c-e75d-4af6-8ea8-d93b7acc4e03"
      },
      "execution_count": 32,
      "outputs": [
        {
          "output_type": "execute_result",
          "data": {
            "text/plain": [
              "True"
            ]
          },
          "metadata": {},
          "execution_count": 32
        }
      ]
    },
    {
      "cell_type": "code",
      "source": [
        "# Logical alternative\n",
        "\n",
        "\n",
        "(w != e) or (e != r)"
      ],
      "metadata": {
        "colab": {
          "base_uri": "https://localhost:8080/"
        },
        "id": "TJ108_DpFDZZ",
        "outputId": "21790abd-0210-49dc-87cd-ef9221845aee"
      },
      "execution_count": 33,
      "outputs": [
        {
          "output_type": "execute_result",
          "data": {
            "text/plain": [
              "True"
            ]
          },
          "metadata": {},
          "execution_count": 33
        }
      ]
    },
    {
      "cell_type": "code",
      "source": [
        "a1 = (2 == 2) or (3 == 2)\n",
        "a2 = (2 == 2) and (3 == 2)\n",
        "print(a1, a2)"
      ],
      "metadata": {
        "colab": {
          "base_uri": "https://localhost:8080/"
        },
        "id": "hDoV15GUGXRf",
        "outputId": "78c9963c-99fc-4675-a450-e2698d82d92c"
      },
      "execution_count": 35,
      "outputs": [
        {
          "output_type": "stream",
          "name": "stdout",
          "text": [
            "True False\n"
          ]
        }
      ]
    },
    {
      "cell_type": "code",
      "source": [
        "# Negation\n",
        "not (w == e)"
      ],
      "metadata": {
        "colab": {
          "base_uri": "https://localhost:8080/"
        },
        "id": "n6yI-WOrGicS",
        "outputId": "ae438fdd-cac7-4e39-b84a-547db76782e2"
      },
      "execution_count": 38,
      "outputs": [
        {
          "output_type": "execute_result",
          "data": {
            "text/plain": [
              "True"
            ]
          },
          "metadata": {},
          "execution_count": 38
        }
      ]
    },
    {
      "cell_type": "code",
      "source": [
        "if 1:\n",
        "  print('blah')\n",
        "\n"
      ],
      "metadata": {
        "colab": {
          "base_uri": "https://localhost:8080/"
        },
        "id": "w6SRg4leHEtg",
        "outputId": "6f5cc154-b308-4685-cf76-e8527c1dc153"
      },
      "execution_count": 42,
      "outputs": [
        {
          "output_type": "stream",
          "name": "stdout",
          "text": [
            "blah\n"
          ]
        }
      ]
    },
    {
      "cell_type": "markdown",
      "source": [
        "### Type casting\n",
        "Every object in python has a particular type\n",
        "- float\n",
        "- integers\n",
        "- boolean\n",
        "- string\n",
        "- and some more ;)\n",
        "\n",
        "Sometimes you can take an object and change its type"
      ],
      "metadata": {
        "id": "Q_12IMFeIakl"
      }
    },
    {
      "cell_type": "code",
      "source": [
        "2 + 2.0"
      ],
      "metadata": {
        "colab": {
          "base_uri": "https://localhost:8080/"
        },
        "id": "4R-sRA5sIJUV",
        "outputId": "f9f0702b-6962-4c57-9f7f-d6f39beb864e"
      },
      "execution_count": 43,
      "outputs": [
        {
          "output_type": "execute_result",
          "data": {
            "text/plain": [
              "4.0"
            ]
          },
          "metadata": {},
          "execution_count": 43
        }
      ]
    },
    {
      "cell_type": "code",
      "source": [
        "int(2 + 2.0)"
      ],
      "metadata": {
        "colab": {
          "base_uri": "https://localhost:8080/"
        },
        "id": "Gd5MGuPfI5lj",
        "outputId": "ed79ed21-94e3-4b3f-f0e9-5e3cbac378fa"
      },
      "execution_count": 44,
      "outputs": [
        {
          "output_type": "execute_result",
          "data": {
            "text/plain": [
              "4"
            ]
          },
          "metadata": {},
          "execution_count": 44
        }
      ]
    },
    {
      "cell_type": "code",
      "source": [
        "str(2 + 2.0)"
      ],
      "metadata": {
        "colab": {
          "base_uri": "https://localhost:8080/",
          "height": 35
        },
        "id": "6DTxUbAqI_Wc",
        "outputId": "2d39c458-a4af-4a4a-87d0-4109f11ec5ad"
      },
      "execution_count": 45,
      "outputs": [
        {
          "output_type": "execute_result",
          "data": {
            "text/plain": [
              "'4.0'"
            ],
            "application/vnd.google.colaboratory.intrinsic+json": {
              "type": "string"
            }
          },
          "metadata": {},
          "execution_count": 45
        }
      ]
    },
    {
      "cell_type": "code",
      "source": [
        "if int(1):\n",
        "  print('lol')"
      ],
      "metadata": {
        "colab": {
          "base_uri": "https://localhost:8080/"
        },
        "id": "uX4-1jHjJBx9",
        "outputId": "79c8b707-a614-45de-adde-33787c0b56e2"
      },
      "execution_count": 46,
      "outputs": [
        {
          "output_type": "stream",
          "name": "stdout",
          "text": [
            "lol\n"
          ]
        }
      ]
    },
    {
      "cell_type": "code",
      "source": [
        "1 + True"
      ],
      "metadata": {
        "colab": {
          "base_uri": "https://localhost:8080/"
        },
        "id": "PSkcqv-wJHjt",
        "outputId": "03229b2f-9c4b-4bba-e6f7-7d8ed6dd73a6"
      },
      "execution_count": 47,
      "outputs": [
        {
          "output_type": "execute_result",
          "data": {
            "text/plain": [
              "2"
            ]
          },
          "metadata": {},
          "execution_count": 47
        }
      ]
    },
    {
      "cell_type": "code",
      "source": [
        "2 + False"
      ],
      "metadata": {
        "colab": {
          "base_uri": "https://localhost:8080/"
        },
        "id": "I29TVREWJLrn",
        "outputId": "5273e4a9-a0d1-4ec2-bde0-4bfb129fe87d"
      },
      "execution_count": 48,
      "outputs": [
        {
          "output_type": "execute_result",
          "data": {
            "text/plain": [
              "2"
            ]
          },
          "metadata": {},
          "execution_count": 48
        }
      ]
    },
    {
      "cell_type": "code",
      "source": [
        "int(True)"
      ],
      "metadata": {
        "colab": {
          "base_uri": "https://localhost:8080/"
        },
        "id": "Nv5iEdu6JNdI",
        "outputId": "242a58f2-5163-4bc5-c3be-f39a94c8aea9"
      },
      "execution_count": 49,
      "outputs": [
        {
          "output_type": "execute_result",
          "data": {
            "text/plain": [
              "1"
            ]
          },
          "metadata": {},
          "execution_count": 49
        }
      ]
    },
    {
      "cell_type": "code",
      "source": [
        "bool(3-2)"
      ],
      "metadata": {
        "colab": {
          "base_uri": "https://localhost:8080/"
        },
        "id": "lciOPA5HJQD0",
        "outputId": "9e01b6e2-3aa3-42d5-975c-aa2a7c5c782a"
      },
      "execution_count": 51,
      "outputs": [
        {
          "output_type": "execute_result",
          "data": {
            "text/plain": [
              "True"
            ]
          },
          "metadata": {},
          "execution_count": 51
        }
      ]
    },
    {
      "cell_type": "code",
      "source": [
        "bool(3-3)"
      ],
      "metadata": {
        "colab": {
          "base_uri": "https://localhost:8080/"
        },
        "id": "oiEbIdmrJeC3",
        "outputId": "7caaf167-e047-4d70-cd0e-8159b61ccd0f"
      },
      "execution_count": 52,
      "outputs": [
        {
          "output_type": "execute_result",
          "data": {
            "text/plain": [
              "False"
            ]
          },
          "metadata": {},
          "execution_count": 52
        }
      ]
    },
    {
      "cell_type": "code",
      "source": [
        "# Modulo\n",
        "\n",
        "5 % 2"
      ],
      "metadata": {
        "colab": {
          "base_uri": "https://localhost:8080/"
        },
        "id": "50KY-3btL_o5",
        "outputId": "6f1cb4b0-414d-4d7d-d369-f4ccbdf3b18a"
      },
      "execution_count": 58,
      "outputs": [
        {
          "output_type": "execute_result",
          "data": {
            "text/plain": [
              "1"
            ]
          },
          "metadata": {},
          "execution_count": 58
        }
      ]
    },
    {
      "cell_type": "code",
      "source": [
        "# Is the number divisible by 2?\n",
        "\n",
        "x = 7\n",
        "if 7 % 2 == 0:\n",
        "  print('x is divisible by 2')\n",
        "else:\n",
        "  print('x is not divisible by 2')"
      ],
      "metadata": {
        "colab": {
          "base_uri": "https://localhost:8080/"
        },
        "id": "2e7G-0DhMyJl",
        "outputId": "f79a63e7-f60c-4105-d01e-209babe39ad9"
      },
      "execution_count": 64,
      "outputs": [
        {
          "output_type": "stream",
          "name": "stdout",
          "text": [
            "x is not divisible by 2\n"
          ]
        }
      ]
    },
    {
      "cell_type": "markdown",
      "source": [
        "# Homework"
      ],
      "metadata": {
        "id": "WuFrCPIHKPLi"
      }
    },
    {
      "cell_type": "code",
      "source": [
        "# The variable x - it can be changed by an user\n",
        "\n",
        "x = 23"
      ],
      "metadata": {
        "id": "yjql7pxzKRxg"
      },
      "execution_count": 53,
      "outputs": []
    },
    {
      "cell_type": "code",
      "source": [
        "if x > 10:\n",
        "  print('x is larger than 10')\n",
        "else:\n",
        "  print('x is not larger than 10')\n"
      ],
      "metadata": {
        "colab": {
          "base_uri": "https://localhost:8080/"
        },
        "id": "FbkpkzCvKXM_",
        "outputId": "8a920bcb-6f49-4dd9-efb4-03ba43d986c5"
      },
      "execution_count": 54,
      "outputs": [
        {
          "output_type": "stream",
          "name": "stdout",
          "text": [
            "x is larger than 10\n"
          ]
        }
      ]
    },
    {
      "cell_type": "code",
      "source": [
        "if x > 0:\n",
        "  print('x is positive')\n",
        "elif x == 0:\n",
        "  print('x is equal zero')\n",
        "else:\n",
        "  print('x is negative')"
      ],
      "metadata": {
        "colab": {
          "base_uri": "https://localhost:8080/"
        },
        "id": "qKOWVjsYKmMT",
        "outputId": "2e235d68-a4c5-4d02-a740-fd81bada88fe"
      },
      "execution_count": 56,
      "outputs": [
        {
          "output_type": "stream",
          "name": "stdout",
          "text": [
            "x is positive\n"
          ]
        }
      ]
    },
    {
      "cell_type": "code",
      "source": [
        "if x % 3 == 0:\n",
        "  print('x is divisible by 3')\n",
        "else:\n",
        "  print('x is not divisible by 3')"
      ],
      "metadata": {
        "colab": {
          "base_uri": "https://localhost:8080/"
        },
        "id": "WFbhRudFK33I",
        "outputId": "5d326a76-6449-47f7-d33d-3b1b975f9a1e"
      },
      "execution_count": 57,
      "outputs": [
        {
          "output_type": "stream",
          "name": "stdout",
          "text": [
            "x is not divisible by 3\n"
          ]
        }
      ]
    },
    {
      "cell_type": "code",
      "source": [
        "(x % 3 == 0) and (x % 7 == 0)"
      ],
      "metadata": {
        "colab": {
          "base_uri": "https://localhost:8080/"
        },
        "id": "0k4uBDKeLg6q",
        "outputId": "6418642a-0dfd-46a4-c367-6d1226ddf47a"
      },
      "execution_count": 60,
      "outputs": [
        {
          "output_type": "execute_result",
          "data": {
            "text/plain": [
              "False"
            ]
          },
          "metadata": {},
          "execution_count": 60
        }
      ]
    },
    {
      "cell_type": "code",
      "source": [
        "(x < 100) and (not (x % 6 == 0))"
      ],
      "metadata": {
        "colab": {
          "base_uri": "https://localhost:8080/"
        },
        "id": "up0AleNJMH6j",
        "outputId": "d5a9a05e-9009-465b-ed29-4ea541bbef74"
      },
      "execution_count": 62,
      "outputs": [
        {
          "output_type": "execute_result",
          "data": {
            "text/plain": [
              "True"
            ]
          },
          "metadata": {},
          "execution_count": 62
        }
      ]
    },
    {
      "cell_type": "code",
      "source": [
        "if type(x) == float:\n",
        "  print('x is float')\n",
        "elif type(x) == int:\n",
        "  print('x is an integer')"
      ],
      "metadata": {
        "colab": {
          "base_uri": "https://localhost:8080/"
        },
        "id": "9teI3U-GMX1l",
        "outputId": "efa8ea96-cd32-4a85-f444-b459234a0491"
      },
      "execution_count": 63,
      "outputs": [
        {
          "output_type": "stream",
          "name": "stdout",
          "text": [
            "x is an integer\n"
          ]
        }
      ]
    }
  ]
}