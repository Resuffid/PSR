{
  "nbformat": 4,
  "nbformat_minor": 0,
  "metadata": {
    "colab": {
      "provenance": [],
      "authorship_tag": "ABX9TyM2T8oJPQJOUjNvXa5aIxv8",
      "include_colab_link": true
    },
    "kernelspec": {
      "name": "python3",
      "display_name": "Python 3"
    },
    "language_info": {
      "name": "python"
    }
  },
  "cells": [
    {
      "cell_type": "markdown",
      "metadata": {
        "id": "view-in-github",
        "colab_type": "text"
      },
      "source": [
        "<a href=\"https://colab.research.google.com/github/Resuffid/PSR/blob/main/Homeworks.ipynb\" target=\"_parent\"><img src=\"https://colab.research.google.com/assets/colab-badge.svg\" alt=\"Open In Colab\"/></a>"
      ]
    },
    {
      "cell_type": "markdown",
      "source": [
        "# Week 1"
      ],
      "metadata": {
        "id": "tS-m9JsykqMf"
      }
    },
    {
      "cell_type": "code",
      "source": [
        "print(\"Hello world!\")\n",
        "a = 1\n",
        "b = 2\n",
        "a + b"
      ],
      "metadata": {
        "colab": {
          "base_uri": "https://localhost:8080/"
        },
        "id": "lSPlKotlkspl",
        "outputId": "4e7cb49c-b2ae-43fb-ceb4-5a738383b76d"
      },
      "execution_count": 1,
      "outputs": [
        {
          "output_type": "stream",
          "name": "stdout",
          "text": [
            "Hello world!\n"
          ]
        },
        {
          "output_type": "execute_result",
          "data": {
            "text/plain": [
              "3"
            ]
          },
          "metadata": {},
          "execution_count": 1
        }
      ]
    },
    {
      "cell_type": "markdown",
      "source": [
        "# Week 2"
      ],
      "metadata": {
        "id": "n3j09BXNk50l"
      }
    },
    {
      "cell_type": "code",
      "source": [
        "hw1 = 21\n",
        "hw2 = 14\n",
        "hw3 = 18\n",
        "hw4 = 23\n",
        "hw5 = 19\n",
        "hw6 = 21"
      ],
      "metadata": {
        "id": "rvbsH3dBk_BG"
      },
      "execution_count": 2,
      "outputs": []
    },
    {
      "cell_type": "code",
      "source": [
        "mean = (hw1 + hw2 + hw3 + hw4 + hw5 + hw6)/6"
      ],
      "metadata": {
        "id": "IpEMC0RmlMiI"
      },
      "execution_count": 3,
      "outputs": []
    },
    {
      "cell_type": "code",
      "source": [
        "print(mean)"
      ],
      "metadata": {
        "colab": {
          "base_uri": "https://localhost:8080/"
        },
        "id": "wsTfw9d9lOoh",
        "outputId": "2f2ed831-baae-4b91-cc72-6bd463f0b7b4"
      },
      "execution_count": 4,
      "outputs": [
        {
          "output_type": "stream",
          "name": "stdout",
          "text": [
            "19.333333333333332\n"
          ]
        }
      ]
    },
    {
      "cell_type": "code",
      "source": [
        "print(round(mean, 2))"
      ],
      "metadata": {
        "colab": {
          "base_uri": "https://localhost:8080/"
        },
        "id": "eyFfUC9slQ1G",
        "outputId": "664631d2-b36d-492f-efc1-bf810a634f8a"
      },
      "execution_count": 5,
      "outputs": [
        {
          "output_type": "stream",
          "name": "stdout",
          "text": [
            "19.33\n"
          ]
        }
      ]
    },
    {
      "cell_type": "markdown",
      "source": [
        "# Week 3"
      ],
      "metadata": {
        "id": "nJAiJfEolhBz"
      }
    },
    {
      "cell_type": "code",
      "source": [
        "# The variable x - it can be changed by an user\n",
        "\n",
        "x = 23"
      ],
      "metadata": {
        "id": "J2U1cBXklitN"
      },
      "execution_count": 6,
      "outputs": []
    },
    {
      "cell_type": "code",
      "source": [
        "if x > 10:\n",
        "  print('x is larger than 10')\n",
        "elif x == 10:\n",
        "  print('x is equal 10')\n",
        "else:\n",
        "  print('x is not larger than 10')\n"
      ],
      "metadata": {
        "colab": {
          "base_uri": "https://localhost:8080/"
        },
        "id": "zxE8ZXwYlj8o",
        "outputId": "ba11f585-e465-45b5-f9c4-304de8a18368"
      },
      "execution_count": 7,
      "outputs": [
        {
          "output_type": "stream",
          "name": "stdout",
          "text": [
            "x is larger than 10\n"
          ]
        }
      ]
    },
    {
      "cell_type": "code",
      "source": [
        "if x > 0:\n",
        "  print('x is positive')\n",
        "elif x == 0:\n",
        "  print('x is equal zero')\n",
        "else:\n",
        "  print('x is negative')"
      ],
      "metadata": {
        "colab": {
          "base_uri": "https://localhost:8080/"
        },
        "id": "KbgjunL2ls6L",
        "outputId": "32d4680b-a498-4fa5-f4d6-05c4992c881b"
      },
      "execution_count": 8,
      "outputs": [
        {
          "output_type": "stream",
          "name": "stdout",
          "text": [
            "x is positive\n"
          ]
        }
      ]
    },
    {
      "cell_type": "code",
      "source": [
        "if x % 3 == 0:\n",
        "  print('x is divisible by 3')\n",
        "else:\n",
        "  print('x is not divisible by 3')"
      ],
      "metadata": {
        "colab": {
          "base_uri": "https://localhost:8080/"
        },
        "id": "YFmkzHPvl5IU",
        "outputId": "454f9874-9318-4ab1-bec2-fa6f6f093243"
      },
      "execution_count": 9,
      "outputs": [
        {
          "output_type": "stream",
          "name": "stdout",
          "text": [
            "x is not divisible by 3\n"
          ]
        }
      ]
    },
    {
      "cell_type": "code",
      "source": [
        "(x % 3 == 0) and (x % 7 == 0)"
      ],
      "metadata": {
        "colab": {
          "base_uri": "https://localhost:8080/"
        },
        "id": "fa1EZzA8l7do",
        "outputId": "a3e7f0aa-2c92-4b1c-dc4e-b3698824c01d"
      },
      "execution_count": 10,
      "outputs": [
        {
          "output_type": "execute_result",
          "data": {
            "text/plain": [
              "False"
            ]
          },
          "metadata": {},
          "execution_count": 10
        }
      ]
    },
    {
      "cell_type": "code",
      "source": [
        "(x < 100) and (not (x % 6 == 0))"
      ],
      "metadata": {
        "colab": {
          "base_uri": "https://localhost:8080/"
        },
        "id": "f0146ag8mAxn",
        "outputId": "240b4bf0-d221-4270-a085-439ab59100b4"
      },
      "execution_count": 11,
      "outputs": [
        {
          "output_type": "execute_result",
          "data": {
            "text/plain": [
              "True"
            ]
          },
          "metadata": {},
          "execution_count": 11
        }
      ]
    },
    {
      "cell_type": "code",
      "source": [
        "if type(x) is float:\n",
        "  print('x is float')\n",
        "elif type(x) is int:\n",
        "  print('x is an integer')\n",
        "else:\n",
        "  print('x is neither a float nor an integer')"
      ],
      "metadata": {
        "colab": {
          "base_uri": "https://localhost:8080/"
        },
        "id": "h4bZmvJgmDHJ",
        "outputId": "64722491-b39a-4ae2-b089-d305b39c2742"
      },
      "execution_count": 13,
      "outputs": [
        {
          "output_type": "stream",
          "name": "stdout",
          "text": [
            "x is an integer\n"
          ]
        }
      ]
    },
    {
      "cell_type": "markdown",
      "source": [
        "# Week 4"
      ],
      "metadata": {
        "id": "sVuBXIswmNHQ"
      }
    },
    {
      "cell_type": "code",
      "source": [
        "with open('boys.txt') as f:\n",
        "  names_f = f.read()\n",
        "  names = names_f.splitlines()"
      ],
      "metadata": {
        "id": "8g3reQA0mIU1"
      },
      "execution_count": 36,
      "outputs": []
    },
    {
      "cell_type": "code",
      "source": [
        "names[:10]"
      ],
      "metadata": {
        "colab": {
          "base_uri": "https://localhost:8080/"
        },
        "id": "ETIXnA8jmmOu",
        "outputId": "cbaba1c5-c1eb-4b5b-ff50-dbf9b7a6753d"
      },
      "execution_count": 37,
      "outputs": [
        {
          "output_type": "execute_result",
          "data": {
            "text/plain": [
              "['Liam',\n",
              " 'Noah',\n",
              " 'Oliver',\n",
              " 'Elijah',\n",
              " 'James',\n",
              " 'William',\n",
              " 'Benjamin',\n",
              " 'Lucas',\n",
              " 'Henry',\n",
              " 'Theodore']"
            ]
          },
          "metadata": {},
          "execution_count": 37
        }
      ]
    },
    {
      "cell_type": "code",
      "source": [
        "names.index('Ezekiel')"
      ],
      "metadata": {
        "colab": {
          "base_uri": "https://localhost:8080/"
        },
        "id": "CUJfJc-bqYiX",
        "outputId": "949d66ac-3bfd-4e62-d579-6e7c46dc2dcf"
      },
      "execution_count": 38,
      "outputs": [
        {
          "output_type": "execute_result",
          "data": {
            "text/plain": [
              "52"
            ]
          },
          "metadata": {},
          "execution_count": 38
        }
      ]
    },
    {
      "cell_type": "code",
      "source": [
        "top20 = names[:20]"
      ],
      "metadata": {
        "id": "pvlrroNfrAry"
      },
      "execution_count": 39,
      "outputs": []
    },
    {
      "cell_type": "code",
      "source": [
        "top20"
      ],
      "metadata": {
        "colab": {
          "base_uri": "https://localhost:8080/"
        },
        "id": "IF7SBPYvwPqB",
        "outputId": "7395ed86-fed3-495a-c88f-a0a741ef6603"
      },
      "execution_count": 40,
      "outputs": [
        {
          "output_type": "execute_result",
          "data": {
            "text/plain": [
              "['Liam',\n",
              " 'Noah',\n",
              " 'Oliver',\n",
              " 'Elijah',\n",
              " 'James',\n",
              " 'William',\n",
              " 'Benjamin',\n",
              " 'Lucas',\n",
              " 'Henry',\n",
              " 'Theodore',\n",
              " 'Jack',\n",
              " 'Levi',\n",
              " 'Alexander',\n",
              " 'Jackson',\n",
              " 'Mateo',\n",
              " 'Daniel',\n",
              " 'Michael',\n",
              " 'Mason',\n",
              " 'Sebastian',\n",
              " 'Ethan']"
            ]
          },
          "metadata": {},
          "execution_count": 40
        }
      ]
    },
    {
      "cell_type": "code",
      "source": [
        "sorted(top20)"
      ],
      "metadata": {
        "colab": {
          "base_uri": "https://localhost:8080/"
        },
        "id": "d1RKfKkbwWCE",
        "outputId": "fbe9dd88-7496-4d73-da5f-c298bd99abd3"
      },
      "execution_count": 41,
      "outputs": [
        {
          "output_type": "execute_result",
          "data": {
            "text/plain": [
              "['Alexander',\n",
              " 'Benjamin',\n",
              " 'Daniel',\n",
              " 'Elijah',\n",
              " 'Ethan',\n",
              " 'Henry',\n",
              " 'Jack',\n",
              " 'Jackson',\n",
              " 'James',\n",
              " 'Levi',\n",
              " 'Liam',\n",
              " 'Lucas',\n",
              " 'Mason',\n",
              " 'Mateo',\n",
              " 'Michael',\n",
              " 'Noah',\n",
              " 'Oliver',\n",
              " 'Sebastian',\n",
              " 'Theodore',\n",
              " 'William']"
            ]
          },
          "metadata": {},
          "execution_count": 41
        }
      ]
    },
    {
      "cell_type": "code",
      "source": [
        "names[:-10:-1]"
      ],
      "metadata": {
        "colab": {
          "base_uri": "https://localhost:8080/"
        },
        "id": "moPt18XCwXra",
        "outputId": "19c82c29-8505-4cea-f78d-a65214def222"
      },
      "execution_count": 57,
      "outputs": [
        {
          "output_type": "execute_result",
          "data": {
            "text/plain": [
              "['Xavier',\n",
              " 'Dominic',\n",
              " 'Carson',\n",
              " 'Connor',\n",
              " 'Austin',\n",
              " 'Weston',\n",
              " 'Beau',\n",
              " 'Parker',\n",
              " 'Nicholas']"
            ]
          },
          "metadata": {},
          "execution_count": 57
        }
      ]
    },
    {
      "cell_type": "code",
      "source": [
        "name1 = 'Noah'\n",
        "name2 = 'Liam'"
      ],
      "metadata": {
        "id": "dMIenqVLwkup"
      },
      "execution_count": 58,
      "outputs": []
    },
    {
      "cell_type": "code",
      "source": [
        "names.index(name1)"
      ],
      "metadata": {
        "colab": {
          "base_uri": "https://localhost:8080/"
        },
        "id": "CVZN4j62z3O2",
        "outputId": "87d35aa9-1c21-4b54-ec1e-eaba5903c0fd"
      },
      "execution_count": 61,
      "outputs": [
        {
          "output_type": "execute_result",
          "data": {
            "text/plain": [
              "1"
            ]
          },
          "metadata": {},
          "execution_count": 61
        }
      ]
    },
    {
      "cell_type": "code",
      "source": [
        "if names.index(name1) > names.index(name2):\n",
        "  print(f'{name1} is more popular than {name2}')\n",
        "elif names.index(name1) < names.index(name2):\n",
        "  print(f'{name1} is less popular than {name2}')"
      ],
      "metadata": {
        "colab": {
          "base_uri": "https://localhost:8080/"
        },
        "id": "PHlvu9NPzqi6",
        "outputId": "ba2fb5b3-dec3-49f6-cd3c-2235e250ca94"
      },
      "execution_count": 62,
      "outputs": [
        {
          "output_type": "stream",
          "name": "stdout",
          "text": [
            "Noah is more popular than Liam\n"
          ]
        }
      ]
    },
    {
      "cell_type": "markdown",
      "source": [
        "# Week 5"
      ],
      "metadata": {
        "id": "2GlBGZa60kfR"
      }
    },
    {
      "cell_type": "code",
      "source": [
        "import numpy as np\n",
        "\n",
        "l = list(np.random.randint(0, 100, 10000))"
      ],
      "metadata": {
        "id": "T85Sw5LC0hXU"
      },
      "execution_count": 26,
      "outputs": []
    },
    {
      "cell_type": "code",
      "source": [
        "i = 0\n",
        "j = 0\n",
        "for n in l:\n",
        "  i = i + n\n",
        "  m = i/10000\n",
        "print(m)\n"
      ],
      "metadata": {
        "colab": {
          "base_uri": "https://localhost:8080/"
        },
        "id": "2oldSodM0xHH",
        "outputId": "ea2b4d80-247a-4323-a2af-babfffc33f5b"
      },
      "execution_count": 34,
      "outputs": [
        {
          "output_type": "stream",
          "name": "stdout",
          "text": [
            "49.1544\n"
          ]
        }
      ]
    },
    {
      "cell_type": "code",
      "source": [
        "j"
      ],
      "metadata": {
        "colab": {
          "base_uri": "https://localhost:8080/"
        },
        "id": "aUvRc3qbcP6M",
        "outputId": "96a7fd1d-5d61-486e-e4c8-1f1697af27af"
      },
      "execution_count": 32,
      "outputs": [
        {
          "output_type": "execute_result",
          "data": {
            "text/plain": [
              "1"
            ]
          },
          "metadata": {},
          "execution_count": 32
        }
      ]
    },
    {
      "cell_type": "code",
      "source": [
        "i = 0\n",
        "j = 0\n",
        "for n in l:\n",
        "  i = i + ((n - m) ** 2)\n",
        "  sd = (i/10000)**0.5\n",
        "print(sd)"
      ],
      "metadata": {
        "colab": {
          "base_uri": "https://localhost:8080/"
        },
        "id": "tLbo47Nngkn8",
        "outputId": "afbcf6dc-de05-4761-f670-ae21d7c68df8"
      },
      "execution_count": 35,
      "outputs": [
        {
          "output_type": "stream",
          "name": "stdout",
          "text": [
            "28.72209533860634\n"
          ]
        }
      ]
    },
    {
      "cell_type": "markdown",
      "source": [
        "# Week 6"
      ],
      "metadata": {
        "id": "90iPPdfSlGu1"
      }
    },
    {
      "cell_type": "code",
      "source": [
        "pol = ['gorący', 'dzień', 'las', 'słońce']\n",
        "eng = ['hot', 'day', 'forest', 'sun']"
      ],
      "metadata": {
        "id": "kUb2SauFhwvw"
      },
      "execution_count": 36,
      "outputs": []
    },
    {
      "cell_type": "code",
      "source": [
        "slo = dict(zip(eng, pol))"
      ],
      "metadata": {
        "id": "PI6AU0KWmNd3"
      },
      "execution_count": 51,
      "outputs": []
    },
    {
      "cell_type": "code",
      "source": [
        "sent = 'The sun light the forest on a hot day'"
      ],
      "metadata": {
        "id": "_p9lPmrPmRRh"
      },
      "execution_count": 43,
      "outputs": []
    },
    {
      "cell_type": "code",
      "source": [
        "s = str.split(str.lower(sent))"
      ],
      "metadata": {
        "id": "sqPRVrLUwQn4"
      },
      "execution_count": 47,
      "outputs": []
    },
    {
      "cell_type": "code",
      "source": [
        "for n in s:\n",
        "  if n in slo.keys():\n",
        "    print(slo[n])\n",
        "  else:\n",
        "    print(n)"
      ],
      "metadata": {
        "colab": {
          "base_uri": "https://localhost:8080/"
        },
        "id": "Fj-gH149wRyQ",
        "outputId": "1feb9092-f973-414d-aefa-8b45019bf170"
      },
      "execution_count": 53,
      "outputs": [
        {
          "output_type": "stream",
          "name": "stdout",
          "text": [
            "the\n",
            "słońce\n",
            "light\n",
            "the\n",
            "las\n",
            "on\n",
            "a\n",
            "gorący\n",
            "dzień\n"
          ]
        }
      ]
    },
    {
      "cell_type": "markdown",
      "source": [
        "# Week 7"
      ],
      "metadata": {
        "id": "6qNIeOqXqvJt"
      }
    },
    {
      "cell_type": "code",
      "source": [
        "import numpy as np\n",
        "\n",
        "l = list(np.random.randint(0, 100, 100))"
      ],
      "metadata": {
        "id": "-V5ZezKMyBpc"
      },
      "execution_count": 1,
      "outputs": []
    },
    {
      "cell_type": "code",
      "source": [
        "def M(m):\n",
        "  i = 0\n",
        "  for n in m:\n",
        "    i = i+n\n",
        "    mean = i/len(m)\n",
        "  return(mean)"
      ],
      "metadata": {
        "id": "ezPC49lqsCti"
      },
      "execution_count": 23,
      "outputs": []
    },
    {
      "cell_type": "code",
      "source": [
        "M(l)"
      ],
      "metadata": {
        "colab": {
          "base_uri": "https://localhost:8080/"
        },
        "id": "EUbUWDYns-4Z",
        "outputId": "115c628c-a8b8-4b82-907d-a856e390bc54"
      },
      "execution_count": 24,
      "outputs": [
        {
          "output_type": "execute_result",
          "data": {
            "text/plain": [
              "49.12"
            ]
          },
          "metadata": {},
          "execution_count": 24
        }
      ]
    },
    {
      "cell_type": "code",
      "source": [
        "type(M(l))"
      ],
      "metadata": {
        "colab": {
          "base_uri": "https://localhost:8080/"
        },
        "id": "7O1jemhyuX_u",
        "outputId": "172d0e5c-adc2-43a3-82e2-7b8ba0e16507"
      },
      "execution_count": 25,
      "outputs": [
        {
          "output_type": "execute_result",
          "data": {
            "text/plain": [
              "numpy.float64"
            ]
          },
          "metadata": {},
          "execution_count": 25
        }
      ]
    },
    {
      "cell_type": "code",
      "source": [
        "def std(m):\n",
        "  i = 0\n",
        "  for n in m:\n",
        "    i = i + ((n - M(m))**2)\n",
        "    sd = (i/len(m))**0.5\n",
        "  return(sd)\n",
        "\n"
      ],
      "metadata": {
        "id": "YDR9MrpJs_xe"
      },
      "execution_count": 28,
      "outputs": []
    },
    {
      "cell_type": "code",
      "source": [
        "std(l)"
      ],
      "metadata": {
        "colab": {
          "base_uri": "https://localhost:8080/"
        },
        "id": "ngNpKxFYtdso",
        "outputId": "8f6f75bf-5c8a-4bd9-adac-7a063a9e6ab2"
      },
      "execution_count": 29,
      "outputs": [
        {
          "output_type": "execute_result",
          "data": {
            "text/plain": [
              "26.04698830959157"
            ]
          },
          "metadata": {},
          "execution_count": 29
        }
      ]
    },
    {
      "cell_type": "code",
      "source": [
        "def zv(m):\n",
        "  for n in m:\n",
        "    print((n - M(m))/std(m))"
      ],
      "metadata": {
        "id": "nxDOpvjYteYk"
      },
      "execution_count": 45,
      "outputs": []
    },
    {
      "cell_type": "code",
      "source": [
        "zv(l)"
      ],
      "metadata": {
        "colab": {
          "base_uri": "https://localhost:8080/"
        },
        "id": "2D2_Ulzawlp6",
        "outputId": "d1a13140-37f9-4aa6-d1b4-b198c3fe58bc"
      },
      "execution_count": 46,
      "outputs": [
        {
          "output_type": "stream",
          "name": "stdout",
          "text": [
            "-1.1179795396643541\n",
            "-1.1179795396643541\n",
            "1.3775105042292937\n",
            "-0.4269207582784209\n",
            "0.41770664119327533\n",
            "-0.5420972218427431\n",
            "-1.3867246213144393\n",
            "-0.5037050673213024\n",
            "-0.9260187670571505\n",
            "0.4944909502361568\n",
            "0.6096674138004791\n",
            "-1.732254012007406\n",
            "0.3025301776289531\n",
            "0.763236031886242\n",
            "-0.6188815308856246\n",
            "-1.6554697029645244\n",
            "-0.3117442947140987\n",
            "1.18554973162209\n",
            "-0.3117442947140987\n",
            "1.2239418861435307\n",
            "-0.849234458014269\n",
            "-0.6572736854070653\n",
            "0.11056940502174942\n",
            "0.9935889590148864\n",
            "0.916804649972005\n",
            "0.763236031886242\n",
            "1.4159026587507344\n",
            "-0.19656783114977647\n",
            "1.6078634313579383\n",
            "1.646255585879379\n",
            "-1.6170775484430837\n",
            "-0.8108423034928283\n",
            "0.14896155954319015\n",
            "-1.1179795396643541\n",
            "0.22574586858607162\n",
            "-0.5037050673213024\n",
            "-1.271548157750117\n",
            "0.22574586858607162\n",
            "1.5310791223150568\n",
            "0.6096674138004791\n",
            "0.8784124954505642\n",
            "0.14896155954319015\n",
            "-0.3885286037569802\n",
            "-0.00460705854257279\n",
            "0.3025301776289531\n",
            "0.8400203409291235\n",
            "1.5310791223150568\n",
            "0.07217725050030868\n",
            "-1.7706461665288467\n",
            "0.8784124954505642\n",
            "1.646255585879379\n",
            "0.22574586858607162\n",
            "-0.5420972218427431\n",
            "-1.7706461665288467\n",
            "-0.7340579944499468\n",
            "-0.7340579944499468\n",
            "-0.849234458014269\n",
            "0.033785095978867946\n",
            "0.7248438773648013\n",
            "0.7248438773648013\n",
            "0.07217725050030868\n",
            "1.3775105042292937\n",
            "1.492686967793616\n",
            "-1.002803076100032\n",
            "-1.1947638487072356\n",
            "-0.15817567662833573\n",
            "-1.1563716941857949\n",
            "-1.5402932394002022\n",
            "0.34092233215039386\n",
            "-1.7706461665288467\n",
            "0.11056940502174942\n",
            "-0.849234458014269\n",
            "-0.7340579944499468\n",
            "-0.08139136758545426\n",
            "-1.1179795396643541\n",
            "1.18554973162209\n",
            "1.2239418861435307\n",
            "-0.5420972218427431\n",
            "0.11056940502174942\n",
            "1.4542948132721754\n",
            "-0.849234458014269\n",
            "0.45609879571471607\n",
            "-0.849234458014269\n",
            "-0.27335214019265797\n",
            "1.6078634313579383\n",
            "-1.732254012007406\n",
            "-0.00460705854257279\n",
            "-0.849234458014269\n",
            "-0.042999213064013525\n",
            "1.7614320494437012\n",
            "0.5712752592790383\n",
            "1.3775105042292937\n",
            "-0.849234458014269\n",
            "0.033785095978867946\n",
            "-1.42511677583588\n",
            "-0.6572736854070653\n",
            "1.4542948132721754\n",
            "0.2641380231075124\n",
            "0.8400203409291235\n",
            "1.8382163584865827\n"
          ]
        }
      ]
    },
    {
      "cell_type": "markdown",
      "source": [
        "# Week 8"
      ],
      "metadata": {
        "id": "Q4O2cN7Ly-d1"
      }
    },
    {
      "cell_type": "code",
      "source": [
        "def translate_word(word, dictionary, return_original=False, ignore_case=True):\n",
        "  if return_original==False:\n",
        "    if word in dictionary:\n",
        "      return(dictionary[word])\n",
        "    else:\n",
        "      return(None)\n",
        "  if word in dictionary:\n",
        "    return(dictionary[word])\n",
        "  else:\n",
        "    return(word)\n",
        "  if ignore_case==True:\n",
        "    str.lower(word)\n",
        "    \"\"\"Finds word in a dictionary and returns translation.\n",
        "\n",
        "    This function takes a word in one language and a dictionary containing \n",
        "    translations as arguments. It looks for a word in the dictionary and, if found\n",
        "    returns the translation. If the word is not in the dictionary, the function returns\n",
        "    None or, the original word if return_original=True. The ignore_case argument specifies\n",
        "    if the search should be case-sensitive or not.\n",
        "\n",
        "    Parameters\n",
        "    ----------\n",
        "    word : str\n",
        "        A word to look up in the dictionary.\n",
        "    dictionary: dict\n",
        "        A dictionary containing words (keys) and their translations (values).\n",
        "    return_original: bool\n",
        "        If true, the function returns the original word if no translation is found.\n",
        "    ignore_case: bool\n",
        "        If true, the words and translations are both converted to lowercase and than compared.\n",
        "\n",
        "    Returns\n",
        "    -------\n",
        "    str, None\n",
        "        A translated word, an original word or None.\n",
        "\n",
        "    \"\"\"\n"
      ],
      "metadata": {
        "id": "ZNKAOJFSy-Bw"
      },
      "execution_count": 57,
      "outputs": []
    },
    {
      "cell_type": "code",
      "source": [
        "pol = ['gorący', 'dzień', 'las', 'słońce']\n",
        "eng = ['hot', 'day', 'forest', 'sun']"
      ],
      "metadata": {
        "id": "z0NJhHGl0b6T"
      },
      "execution_count": 51,
      "outputs": []
    },
    {
      "cell_type": "code",
      "source": [
        "slo = dict(zip(eng, pol))"
      ],
      "metadata": {
        "id": "lBDRj_dD0gMj"
      },
      "execution_count": 52,
      "outputs": []
    },
    {
      "cell_type": "code",
      "source": [
        "translate_word('hot', slo)"
      ],
      "metadata": {
        "colab": {
          "base_uri": "https://localhost:8080/",
          "height": 35
        },
        "id": "Em0wICHS0iq8",
        "outputId": "8d590a60-5cf0-4b98-9c36-07b39a323c63"
      },
      "execution_count": 61,
      "outputs": [
        {
          "output_type": "execute_result",
          "data": {
            "text/plain": [
              "'gorący'"
            ],
            "application/vnd.google.colaboratory.intrinsic+json": {
              "type": "string"
            }
          },
          "metadata": {},
          "execution_count": 61
        }
      ]
    },
    {
      "cell_type": "code",
      "source": [
        "translate_word('stop', slo, True)"
      ],
      "metadata": {
        "colab": {
          "base_uri": "https://localhost:8080/",
          "height": 35
        },
        "id": "UZEUqHvQ0qQT",
        "outputId": "1248db91-8090-4e08-bba6-b71e2f41a764"
      },
      "execution_count": 62,
      "outputs": [
        {
          "output_type": "execute_result",
          "data": {
            "text/plain": [
              "'stop'"
            ],
            "application/vnd.google.colaboratory.intrinsic+json": {
              "type": "string"
            }
          },
          "metadata": {},
          "execution_count": 62
        }
      ]
    },
    {
      "cell_type": "code",
      "source": [
        "translate_word('stop', slo, False)"
      ],
      "metadata": {
        "id": "5EmQRi9v0ycL"
      },
      "execution_count": 59,
      "outputs": []
    },
    {
      "cell_type": "markdown",
      "source": [
        "# Week 9"
      ],
      "metadata": {
        "id": "4SL3uH2e1g1b"
      }
    },
    {
      "cell_type": "code",
      "source": [
        "rng = np.random.default_rng()"
      ],
      "metadata": {
        "id": "bzeeCcYt03cR"
      },
      "execution_count": 70,
      "outputs": []
    },
    {
      "cell_type": "code",
      "source": [
        "a = rng.normal(1,10,(10,10))"
      ],
      "metadata": {
        "id": "uRIpjhpl1o0o"
      },
      "execution_count": 72,
      "outputs": []
    },
    {
      "cell_type": "code",
      "source": [
        "print(a)"
      ],
      "metadata": {
        "colab": {
          "base_uri": "https://localhost:8080/"
        },
        "id": "bA0vljE23VXu",
        "outputId": "b4694fb6-7e4f-4421-deae-fd0e9ac93f83"
      },
      "execution_count": 73,
      "outputs": [
        {
          "output_type": "stream",
          "name": "stdout",
          "text": [
            "[[ -9.25419908   3.72119965  -4.71873906   7.71238263  -7.39561978\n",
            "   -7.3619629    7.35844995  10.48347303  22.89756421  30.1594806 ]\n",
            " [  4.23415377   3.04042379 -13.33377863  22.04844109  -9.4188165\n",
            "   12.29102391  11.65315543  25.08662314 -14.65674365   4.22013563]\n",
            " [  1.17430003   3.21943702   2.77291464   0.0466666  -21.74939408\n",
            "    1.95323072 -11.95371991   2.92014512  -3.16493778 -11.26704772]\n",
            " [  7.96801095  -9.50849421  -1.98605121  -8.45907536  11.40136694\n",
            "  -13.06647672 -15.9391985   -1.15606214   6.68265774  -5.65049434]\n",
            " [ -2.51620058  17.73581473   7.75072774  -0.3108207    3.0869132\n",
            "  -21.95077824   0.25304134  -4.41266429  29.19482129   7.69601357]\n",
            " [  3.92716      6.03032644  -5.89542108  12.18161875  13.23365676\n",
            "   -6.85298755 -14.34006936 -16.00407725  -8.24282294 -16.30634928]\n",
            " [  6.28003822  13.80361033   6.27234009 -12.3722267    7.00511695\n",
            "  -13.12789347 -12.86490628  -1.80834192   8.5464523   25.37540684]\n",
            " [ -1.72971935  -8.95591369  -2.54031799  -7.02088768  -2.61309226\n",
            "    8.76397801  -0.35924316  -0.96905452   2.63099596  -7.55509084]\n",
            " [  3.021639   -28.05772754  -7.18226461  -2.12812564  -1.15405468\n",
            "  -15.95995683  -1.56776318 -10.20115707  -6.10187253   2.44849246]\n",
            " [-11.67613476  14.72970529  14.83660387  -0.86327396   3.39316704\n",
            "    5.71124082  -9.65332795   6.99193922   5.42159146  -2.1786456 ]]\n"
          ]
        }
      ]
    },
    {
      "cell_type": "code",
      "source": [
        "a[1, 0:5]"
      ],
      "metadata": {
        "colab": {
          "base_uri": "https://localhost:8080/"
        },
        "id": "Q_5B2GDR3oh8",
        "outputId": "cd5b7f62-b326-4bf4-99a6-53fb9fee73e0"
      },
      "execution_count": 75,
      "outputs": [
        {
          "output_type": "execute_result",
          "data": {
            "text/plain": [
              "array([  4.23415377,   3.04042379, -13.33377863,  22.04844109,\n",
              "        -9.4188165 ])"
            ]
          },
          "metadata": {},
          "execution_count": 75
        }
      ]
    },
    {
      "cell_type": "code",
      "source": [
        "a[-2:, -1]"
      ],
      "metadata": {
        "colab": {
          "base_uri": "https://localhost:8080/"
        },
        "id": "vzZQ1qDF3wMx",
        "outputId": "7507fcbe-f8d4-4797-8b9e-eb463dfdc172"
      },
      "execution_count": 77,
      "outputs": [
        {
          "output_type": "execute_result",
          "data": {
            "text/plain": [
              "array([ 2.44849246, -2.1786456 ])"
            ]
          },
          "metadata": {},
          "execution_count": 77
        }
      ]
    },
    {
      "cell_type": "code",
      "source": [
        "a.mean(axis=1)"
      ],
      "metadata": {
        "colab": {
          "base_uri": "https://localhost:8080/"
        },
        "id": "t7BZkTaE387e",
        "outputId": "df1dc671-ba45-4fe7-fc93-22b0962c924c"
      },
      "execution_count": 80,
      "outputs": [
        {
          "output_type": "execute_result",
          "data": {
            "text/plain": [
              "array([ 5.36020292,  4.5164618 , -3.60484054, -2.97138168,  3.65268681,\n",
              "       -3.22689655,  2.71095964, -2.03483455, -6.68827906,  2.67128654])"
            ]
          },
          "metadata": {},
          "execution_count": 80
        }
      ]
    },
    {
      "cell_type": "code",
      "source": [
        "a.std(axis=1)"
      ],
      "metadata": {
        "colab": {
          "base_uri": "https://localhost:8080/"
        },
        "id": "sXW2GYSh4PGk",
        "outputId": "b79eca4c-6283-4d8a-f6ef-8419f5335311"
      },
      "execution_count": 81,
      "outputs": [
        {
          "output_type": "execute_result",
          "data": {
            "text/plain": [
              "array([12.65208883, 13.13262774,  8.09147299,  8.7966723 , 12.92326244,\n",
              "       10.71685112, 12.06665672,  4.96231905,  9.0052816 ,  8.50384994])"
            ]
          },
          "metadata": {},
          "execution_count": 81
        }
      ]
    },
    {
      "cell_type": "code",
      "source": [],
      "metadata": {
        "id": "WR8S04194kWU"
      },
      "execution_count": null,
      "outputs": []
    }
  ]
}