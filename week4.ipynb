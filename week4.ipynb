{
  "nbformat": 4,
  "nbformat_minor": 0,
  "metadata": {
    "colab": {
      "provenance": [],
      "authorship_tag": "ABX9TyNvLpUXK1+/jQ/Vv4C9Oit1"
    },
    "kernelspec": {
      "name": "python3",
      "display_name": "Python 3"
    },
    "language_info": {
      "name": "python"
    }
  },
  "cells": [
    {
      "cell_type": "markdown",
      "source": [
        "# Week 4 - 16.03.2023"
      ],
      "metadata": {
        "id": "nEVudGdg9Neg"
      }
    },
    {
      "cell_type": "markdown",
      "source": [
        "In order to check whether the two sides are equal we can use function \"is\""
      ],
      "metadata": {
        "id": "dYCEYhOm-aN5"
      }
    },
    {
      "cell_type": "code",
      "source": [
        "type(1) is int"
      ],
      "metadata": {
        "colab": {
          "base_uri": "https://localhost:8080/"
        },
        "id": "19OLY2g9-hhm",
        "outputId": "f0e89986-e0a8-45d7-edb3-7b0977b4f68c"
      },
      "execution_count": 1,
      "outputs": [
        {
          "output_type": "execute_result",
          "data": {
            "text/plain": [
              "True"
            ]
          },
          "metadata": {},
          "execution_count": 1
        }
      ]
    },
    {
      "cell_type": "code",
      "source": [
        "type(9.5) is int"
      ],
      "metadata": {
        "colab": {
          "base_uri": "https://localhost:8080/"
        },
        "id": "vYgoqlis-kPn",
        "outputId": "8b1239eb-302a-426b-cf31-3d245f8af758"
      },
      "execution_count": 2,
      "outputs": [
        {
          "output_type": "execute_result",
          "data": {
            "text/plain": [
              "False"
            ]
          },
          "metadata": {},
          "execution_count": 2
        }
      ]
    },
    {
      "cell_type": "markdown",
      "source": [
        "## Today:\n",
        "- Accessing files\n",
        "- Allocating more than one value in a variable - data structures\n",
        "- Lists"
      ],
      "metadata": {
        "id": "YS-Q7sZp_gdV"
      }
    },
    {
      "cell_type": "code",
      "source": [
        "a = 'dog'\n",
        "b = 'cat'\n",
        "# There is a place in a working memory of computer that stores both of those variables"
      ],
      "metadata": {
        "id": "4NUzCJZG_ubW"
      },
      "execution_count": 3,
      "outputs": []
    },
    {
      "cell_type": "code",
      "source": [
        "# List - variable that stores many things inside\n",
        "\n",
        "my_list = ['dog', 'cat', 'parrot', 'elephant', 'badger']"
      ],
      "metadata": {
        "id": "CdLx9Btx_33F"
      },
      "execution_count": 4,
      "outputs": []
    },
    {
      "cell_type": "code",
      "source": [
        "type(my_list)"
      ],
      "metadata": {
        "colab": {
          "base_uri": "https://localhost:8080/"
        },
        "id": "74DRa-NLAigr",
        "outputId": "11d10268-414e-4f48-d182-5af2915268ae"
      },
      "execution_count": 5,
      "outputs": [
        {
          "output_type": "execute_result",
          "data": {
            "text/plain": [
              "list"
            ]
          },
          "metadata": {},
          "execution_count": 5
        }
      ]
    },
    {
      "cell_type": "markdown",
      "source": [
        "In list each element has an index. Lists are ordered. Indexing in Python starts with 0"
      ],
      "metadata": {
        "id": "RYoUlJwUArlc"
      }
    },
    {
      "cell_type": "code",
      "source": [
        "my_list[0]"
      ],
      "metadata": {
        "colab": {
          "base_uri": "https://localhost:8080/",
          "height": 35
        },
        "id": "hCHB40rYAku7",
        "outputId": "b3795136-f880-4424-b29c-7f021ba6c454"
      },
      "execution_count": 6,
      "outputs": [
        {
          "output_type": "execute_result",
          "data": {
            "text/plain": [
              "'dog'"
            ],
            "application/vnd.google.colaboratory.intrinsic+json": {
              "type": "string"
            }
          },
          "metadata": {},
          "execution_count": 6
        }
      ]
    },
    {
      "cell_type": "code",
      "source": [
        "my_list"
      ],
      "metadata": {
        "colab": {
          "base_uri": "https://localhost:8080/"
        },
        "id": "hu-3KAQhA07b",
        "outputId": "6d1a9b25-87eb-42cd-aae2-da5a890ecdd4"
      },
      "execution_count": 7,
      "outputs": [
        {
          "output_type": "execute_result",
          "data": {
            "text/plain": [
              "['dog', 'cat', 'parrot', 'elephant', 'badger']"
            ]
          },
          "metadata": {},
          "execution_count": 7
        }
      ]
    },
    {
      "cell_type": "code",
      "source": [
        "len(my_list)"
      ],
      "metadata": {
        "colab": {
          "base_uri": "https://localhost:8080/"
        },
        "id": "QAzpBcDOA8AJ",
        "outputId": "d993133c-0230-4b90-bdd7-5b763cff5720"
      },
      "execution_count": 8,
      "outputs": [
        {
          "output_type": "execute_result",
          "data": {
            "text/plain": [
              "5"
            ]
          },
          "metadata": {},
          "execution_count": 8
        }
      ]
    },
    {
      "cell_type": "code",
      "source": [
        "# Inverse indexing (we go backwards using minus)\n",
        "\n",
        "my_list[-1]"
      ],
      "metadata": {
        "colab": {
          "base_uri": "https://localhost:8080/",
          "height": 35
        },
        "id": "DfU6pssFBkM6",
        "outputId": "0c81cbf9-487c-41aa-a440-139cb7740988"
      },
      "execution_count": 9,
      "outputs": [
        {
          "output_type": "execute_result",
          "data": {
            "text/plain": [
              "'badger'"
            ],
            "application/vnd.google.colaboratory.intrinsic+json": {
              "type": "string"
            }
          },
          "metadata": {},
          "execution_count": 9
        }
      ]
    },
    {
      "cell_type": "code",
      "source": [
        "my_list.append('squirrel')"
      ],
      "metadata": {
        "id": "sGeFN_RqBsPa"
      },
      "execution_count": 13,
      "outputs": []
    },
    {
      "cell_type": "code",
      "source": [
        "my_list"
      ],
      "metadata": {
        "colab": {
          "base_uri": "https://localhost:8080/"
        },
        "id": "8wXoDtq0C0dJ",
        "outputId": "a1b854de-70cf-4c01-dc9e-f3b45860090f"
      },
      "execution_count": 14,
      "outputs": [
        {
          "output_type": "execute_result",
          "data": {
            "text/plain": [
              "['dog', 'cat', 'parrot', 'elephant', 'badger', 'squirrel']"
            ]
          },
          "metadata": {},
          "execution_count": 14
        }
      ]
    },
    {
      "cell_type": "markdown",
      "source": [
        "In python there are functions that are methods. We glue them to the object we want to operate on - e.g. my_list.append()"
      ],
      "metadata": {
        "id": "uoAdiIufDbT9"
      }
    },
    {
      "cell_type": "code",
      "source": [
        "cars = ['skoda', 'audi', 'renault', 'bmw']"
      ],
      "metadata": {
        "id": "w7Dp6dbBDk5G"
      },
      "execution_count": 33,
      "outputs": []
    },
    {
      "cell_type": "code",
      "source": [
        "# Adding an element at the end\n",
        "\n",
        "cars.append('mercedes')"
      ],
      "metadata": {
        "id": "9W5deAcQDr4Q"
      },
      "execution_count": 34,
      "outputs": []
    },
    {
      "cell_type": "code",
      "source": [
        "# Inserting in a specific position\n",
        "\n",
        "cars.insert(1, 'citroen')"
      ],
      "metadata": {
        "id": "WN9kxMsOD0Jo"
      },
      "execution_count": 35,
      "outputs": []
    },
    {
      "cell_type": "code",
      "source": [
        "cars"
      ],
      "metadata": {
        "colab": {
          "base_uri": "https://localhost:8080/"
        },
        "id": "hOoFJvoCEqjG",
        "outputId": "3a9a9b69-016c-49e1-e422-5828eb732ea4"
      },
      "execution_count": 36,
      "outputs": [
        {
          "output_type": "execute_result",
          "data": {
            "text/plain": [
              "['skoda', 'citroen', 'audi', 'renault', 'bmw', 'mercedes']"
            ]
          },
          "metadata": {},
          "execution_count": 36
        }
      ]
    },
    {
      "cell_type": "code",
      "source": [
        "# Removing specific item\n",
        "\n",
        "cars.pop(3)"
      ],
      "metadata": {
        "colab": {
          "base_uri": "https://localhost:8080/",
          "height": 35
        },
        "id": "3tUDOx-PErlO",
        "outputId": "09d617c5-3e8a-4d85-f737-33c95b318176"
      },
      "execution_count": 37,
      "outputs": [
        {
          "output_type": "execute_result",
          "data": {
            "text/plain": [
              "'renault'"
            ],
            "application/vnd.google.colaboratory.intrinsic+json": {
              "type": "string"
            }
          },
          "metadata": {},
          "execution_count": 37
        }
      ]
    },
    {
      "cell_type": "code",
      "source": [
        "cars"
      ],
      "metadata": {
        "colab": {
          "base_uri": "https://localhost:8080/"
        },
        "id": "zFtbopdJE9W3",
        "outputId": "c14a40d7-e1ea-4d9d-fbc7-d4d922547e81"
      },
      "execution_count": 38,
      "outputs": [
        {
          "output_type": "execute_result",
          "data": {
            "text/plain": [
              "['skoda', 'citroen', 'audi', 'bmw', 'mercedes']"
            ]
          },
          "metadata": {},
          "execution_count": 38
        }
      ]
    },
    {
      "cell_type": "code",
      "source": [
        "cars.append('audi')\n",
        "cars"
      ],
      "metadata": {
        "colab": {
          "base_uri": "https://localhost:8080/"
        },
        "id": "P41VhInEE-hg",
        "outputId": "292a528b-260b-4f32-e47a-fda6fbf70733"
      },
      "execution_count": 39,
      "outputs": [
        {
          "output_type": "execute_result",
          "data": {
            "text/plain": [
              "['skoda', 'citroen', 'audi', 'bmw', 'mercedes', 'audi']"
            ]
          },
          "metadata": {},
          "execution_count": 39
        }
      ]
    },
    {
      "cell_type": "code",
      "source": [
        "# Removing the first occurence of an item with specific value\n",
        "\n",
        "cars.remove('audi')\n",
        "cars"
      ],
      "metadata": {
        "colab": {
          "base_uri": "https://localhost:8080/"
        },
        "id": "yqHliKvWFZNK",
        "outputId": "da6ca0e6-ac2a-4af4-c03f-c5298d2f87c1"
      },
      "execution_count": 40,
      "outputs": [
        {
          "output_type": "execute_result",
          "data": {
            "text/plain": [
              "['skoda', 'citroen', 'bmw', 'mercedes', 'audi']"
            ]
          },
          "metadata": {},
          "execution_count": 40
        }
      ]
    },
    {
      "cell_type": "code",
      "source": [
        "# Adding more elements and counting the number of a specific item\n",
        "\n",
        "cars.extend(['audi', 'audi', 'mazda'])\n",
        "(cars.count('audi'))\n",
        "cars"
      ],
      "metadata": {
        "colab": {
          "base_uri": "https://localhost:8080/"
        },
        "id": "C9ANtcrjFePz",
        "outputId": "112cca02-22ff-4f12-ef2f-af9697d5ddf7"
      },
      "execution_count": 41,
      "outputs": [
        {
          "output_type": "execute_result",
          "data": {
            "text/plain": [
              "['skoda', 'citroen', 'bmw', 'mercedes', 'audi', 'audi', 'audi', 'mazda']"
            ]
          },
          "metadata": {},
          "execution_count": 41
        }
      ]
    },
    {
      "cell_type": "code",
      "source": [
        "cars.index('audi')"
      ],
      "metadata": {
        "colab": {
          "base_uri": "https://localhost:8080/"
        },
        "id": "9Nn3BwYhGa3M",
        "outputId": "caa904ee-7d30-4078-cfb7-f14741c83c93"
      },
      "execution_count": 42,
      "outputs": [
        {
          "output_type": "execute_result",
          "data": {
            "text/plain": [
              "4"
            ]
          },
          "metadata": {},
          "execution_count": 42
        }
      ]
    },
    {
      "cell_type": "code",
      "source": [
        "cars.sort()\n",
        "cars"
      ],
      "metadata": {
        "colab": {
          "base_uri": "https://localhost:8080/"
        },
        "id": "hg6PL9V4Gtux",
        "outputId": "ec951dc8-3203-44f3-d045-757f4bc0970c"
      },
      "execution_count": 43,
      "outputs": [
        {
          "output_type": "execute_result",
          "data": {
            "text/plain": [
              "['audi', 'audi', 'audi', 'bmw', 'citroen', 'mazda', 'mercedes', 'skoda']"
            ]
          },
          "metadata": {},
          "execution_count": 43
        }
      ]
    },
    {
      "cell_type": "code",
      "source": [
        "a = [1, 4, 3, 2, 5, 4, 4.44]\n",
        "a.sort()\n",
        "a\n",
        "\n",
        "# a is changed when sort is used"
      ],
      "metadata": {
        "colab": {
          "base_uri": "https://localhost:8080/"
        },
        "id": "DsycoPJxGyxC",
        "outputId": "ed52a32a-e85e-4ad7-c915-1cb8493087f7"
      },
      "execution_count": 31,
      "outputs": [
        {
          "output_type": "execute_result",
          "data": {
            "text/plain": [
              "[1, 2, 3, 4, 4, 4.44, 5]"
            ]
          },
          "metadata": {},
          "execution_count": 31
        }
      ]
    },
    {
      "cell_type": "code",
      "source": [
        "a[3+1]"
      ],
      "metadata": {
        "colab": {
          "base_uri": "https://localhost:8080/"
        },
        "id": "PyPlZ27OHBhX",
        "outputId": "38418260-8225-4604-b33f-340ba7305bff"
      },
      "execution_count": 44,
      "outputs": [
        {
          "output_type": "execute_result",
          "data": {
            "text/plain": [
              "4"
            ]
          },
          "metadata": {},
          "execution_count": 44
        }
      ]
    },
    {
      "cell_type": "code",
      "source": [
        "cars.insert(1, 'bmw')\n",
        "cars.insert(4, 'bmw')\n",
        "cars.insert(5, 'toyota')"
      ],
      "metadata": {
        "id": "4yhmU22EHed4"
      },
      "execution_count": 45,
      "outputs": []
    },
    {
      "cell_type": "code",
      "source": [
        "cars"
      ],
      "metadata": {
        "colab": {
          "base_uri": "https://localhost:8080/"
        },
        "id": "7EQLyeXpIh6e",
        "outputId": "f66113f2-85d8-4dde-fcdd-a7a33f70899e"
      },
      "execution_count": 46,
      "outputs": [
        {
          "output_type": "execute_result",
          "data": {
            "text/plain": [
              "['audi',\n",
              " 'bmw',\n",
              " 'audi',\n",
              " 'audi',\n",
              " 'bmw',\n",
              " 'toyota',\n",
              " 'bmw',\n",
              " 'citroen',\n",
              " 'mazda',\n",
              " 'mercedes',\n",
              " 'skoda']"
            ]
          },
          "metadata": {},
          "execution_count": 46
        }
      ]
    },
    {
      "cell_type": "code",
      "source": [
        "cars[1:4]"
      ],
      "metadata": {
        "colab": {
          "base_uri": "https://localhost:8080/"
        },
        "id": "N6dHsrj9Ii_v",
        "outputId": "6d7f1883-ea04-4893-a084-6a3cba39e362"
      },
      "execution_count": 47,
      "outputs": [
        {
          "output_type": "execute_result",
          "data": {
            "text/plain": [
              "['bmw', 'audi', 'audi']"
            ]
          },
          "metadata": {},
          "execution_count": 47
        }
      ]
    },
    {
      "cell_type": "code",
      "source": [
        "cars[0:2]\n",
        "\n",
        "# Exclusive on the right, iclusive on the left"
      ],
      "metadata": {
        "colab": {
          "base_uri": "https://localhost:8080/"
        },
        "id": "SWypkZYPIxe2",
        "outputId": "152d1fa2-ffc9-4015-ea7b-dfdc217f547d"
      },
      "execution_count": 48,
      "outputs": [
        {
          "output_type": "execute_result",
          "data": {
            "text/plain": [
              "['audi', 'bmw']"
            ]
          },
          "metadata": {},
          "execution_count": 48
        }
      ]
    },
    {
      "cell_type": "code",
      "source": [
        "i = 3\n",
        "cars[i:i+3]"
      ],
      "metadata": {
        "colab": {
          "base_uri": "https://localhost:8080/"
        },
        "id": "9T5H6ZzNJJgS",
        "outputId": "23751b54-9373-4e42-dd9c-4385b8bed37f"
      },
      "execution_count": 50,
      "outputs": [
        {
          "output_type": "execute_result",
          "data": {
            "text/plain": [
              "['audi', 'bmw', 'toyota']"
            ]
          },
          "metadata": {},
          "execution_count": 50
        }
      ]
    },
    {
      "cell_type": "code",
      "source": [
        "cars[:3]"
      ],
      "metadata": {
        "colab": {
          "base_uri": "https://localhost:8080/"
        },
        "id": "VjN6SiDyJUa5",
        "outputId": "fd0334dd-a92f-4ce1-bd22-2b22d0986cda"
      },
      "execution_count": 51,
      "outputs": [
        {
          "output_type": "execute_result",
          "data": {
            "text/plain": [
              "['audi', 'bmw', 'audi']"
            ]
          },
          "metadata": {},
          "execution_count": 51
        }
      ]
    },
    {
      "cell_type": "code",
      "source": [
        "cars[5:]"
      ],
      "metadata": {
        "colab": {
          "base_uri": "https://localhost:8080/"
        },
        "id": "qDXE8I-XJi_w",
        "outputId": "889a4fd5-6229-49c1-caac-6b0d2bd38fa8"
      },
      "execution_count": 52,
      "outputs": [
        {
          "output_type": "execute_result",
          "data": {
            "text/plain": [
              "['toyota', 'bmw', 'citroen', 'mazda', 'mercedes', 'skoda']"
            ]
          },
          "metadata": {},
          "execution_count": 52
        }
      ]
    },
    {
      "cell_type": "code",
      "source": [
        "cars[0:2]"
      ],
      "metadata": {
        "colab": {
          "base_uri": "https://localhost:8080/"
        },
        "id": "gXn0ZQ94Jl-U",
        "outputId": "b80354bc-9449-425f-81ee-109c545eacc3"
      },
      "execution_count": 53,
      "outputs": [
        {
          "output_type": "execute_result",
          "data": {
            "text/plain": [
              "['audi', 'bmw']"
            ]
          },
          "metadata": {},
          "execution_count": 53
        }
      ]
    },
    {
      "cell_type": "code",
      "source": [
        "cars[2:4]"
      ],
      "metadata": {
        "colab": {
          "base_uri": "https://localhost:8080/"
        },
        "id": "hPp88UaQJ1yl",
        "outputId": "5fe291ec-1c89-456c-dcef-16d98a29f2ae"
      },
      "execution_count": 54,
      "outputs": [
        {
          "output_type": "execute_result",
          "data": {
            "text/plain": [
              "['audi', 'audi']"
            ]
          },
          "metadata": {},
          "execution_count": 54
        }
      ]
    },
    {
      "cell_type": "code",
      "source": [
        "cars[-2:]"
      ],
      "metadata": {
        "colab": {
          "base_uri": "https://localhost:8080/"
        },
        "id": "983p3x3_J3Gt",
        "outputId": "93ce778f-e526-4b5e-da75-b1476feb6940"
      },
      "execution_count": 55,
      "outputs": [
        {
          "output_type": "execute_result",
          "data": {
            "text/plain": [
              "['mercedes', 'skoda']"
            ]
          },
          "metadata": {},
          "execution_count": 55
        }
      ]
    },
    {
      "cell_type": "code",
      "source": [
        "cars[0:6:2]"
      ],
      "metadata": {
        "colab": {
          "base_uri": "https://localhost:8080/"
        },
        "id": "FcOFmkhQKlOz",
        "outputId": "d42d79e7-aba3-46bf-8432-d83d8ba6b7af"
      },
      "execution_count": 56,
      "outputs": [
        {
          "output_type": "execute_result",
          "data": {
            "text/plain": [
              "['audi', 'audi', 'bmw']"
            ]
          },
          "metadata": {},
          "execution_count": 56
        }
      ]
    },
    {
      "cell_type": "code",
      "source": [
        "cars"
      ],
      "metadata": {
        "colab": {
          "base_uri": "https://localhost:8080/"
        },
        "id": "MyU7wv_wK1oE",
        "outputId": "b8584ad8-d4b2-4427-997c-94412a12b739"
      },
      "execution_count": 57,
      "outputs": [
        {
          "output_type": "execute_result",
          "data": {
            "text/plain": [
              "['audi',\n",
              " 'bmw',\n",
              " 'audi',\n",
              " 'audi',\n",
              " 'bmw',\n",
              " 'toyota',\n",
              " 'bmw',\n",
              " 'citroen',\n",
              " 'mazda',\n",
              " 'mercedes',\n",
              " 'skoda']"
            ]
          },
          "metadata": {},
          "execution_count": 57
        }
      ]
    },
    {
      "cell_type": "code",
      "source": [
        "cars[1::2]"
      ],
      "metadata": {
        "colab": {
          "base_uri": "https://localhost:8080/"
        },
        "id": "PMMg36oGK4W_",
        "outputId": "1cb9a258-1943-404e-b536-3b9b28791800"
      },
      "execution_count": 58,
      "outputs": [
        {
          "output_type": "execute_result",
          "data": {
            "text/plain": [
              "['bmw', 'audi', 'toyota', 'citroen', 'mercedes']"
            ]
          },
          "metadata": {},
          "execution_count": 58
        }
      ]
    },
    {
      "cell_type": "code",
      "source": [
        "cars[::-1]\n",
        "\n",
        "#Reversing order"
      ],
      "metadata": {
        "colab": {
          "base_uri": "https://localhost:8080/"
        },
        "id": "Pn0nlxEFK_oB",
        "outputId": "b12ae03b-5e91-43f8-9fc5-30f4a845a211"
      },
      "execution_count": 59,
      "outputs": [
        {
          "output_type": "execute_result",
          "data": {
            "text/plain": [
              "['skoda',\n",
              " 'mercedes',\n",
              " 'mazda',\n",
              " 'citroen',\n",
              " 'bmw',\n",
              " 'toyota',\n",
              " 'bmw',\n",
              " 'audi',\n",
              " 'audi',\n",
              " 'bmw',\n",
              " 'audi']"
            ]
          },
          "metadata": {},
          "execution_count": 59
        }
      ]
    },
    {
      "cell_type": "code",
      "source": [
        "text = 'Hello there, it is super nice here today!'"
      ],
      "metadata": {
        "id": "hGwfNPRWMEhk"
      },
      "execution_count": 64,
      "outputs": []
    },
    {
      "cell_type": "code",
      "source": [
        "text[:4]\n",
        "\n",
        "# Characters are elements of the list"
      ],
      "metadata": {
        "colab": {
          "base_uri": "https://localhost:8080/",
          "height": 35
        },
        "id": "l4BOYPe7MeCK",
        "outputId": "40bb81b5-a48e-4293-8412-c012722c492a"
      },
      "execution_count": 65,
      "outputs": [
        {
          "output_type": "execute_result",
          "data": {
            "text/plain": [
              "'Hell'"
            ],
            "application/vnd.google.colaboratory.intrinsic+json": {
              "type": "string"
            }
          },
          "metadata": {},
          "execution_count": 65
        }
      ]
    },
    {
      "cell_type": "code",
      "source": [
        "text[::2]"
      ],
      "metadata": {
        "colab": {
          "base_uri": "https://localhost:8080/",
          "height": 35
        },
        "id": "NP8t408GMf-3",
        "outputId": "b5dfee9d-e882-4614-d26d-8dbc6a32c408"
      },
      "execution_count": 66,
      "outputs": [
        {
          "output_type": "execute_result",
          "data": {
            "text/plain": [
              "'Hlotee ti ue iehr oa!'"
            ],
            "application/vnd.google.colaboratory.intrinsic+json": {
              "type": "string"
            }
          },
          "metadata": {},
          "execution_count": 66
        }
      ]
    },
    {
      "cell_type": "code",
      "source": [
        "text[::-1]"
      ],
      "metadata": {
        "colab": {
          "base_uri": "https://localhost:8080/",
          "height": 35
        },
        "id": "49DRuJsEMqdP",
        "outputId": "9094f708-2788-40e1-a9f0-5e1f489fc796"
      },
      "execution_count": 67,
      "outputs": [
        {
          "output_type": "execute_result",
          "data": {
            "text/plain": [
              "'!yadot ereh ecin repus si ti ,ereht olleH'"
            ],
            "application/vnd.google.colaboratory.intrinsic+json": {
              "type": "string"
            }
          },
          "metadata": {},
          "execution_count": 67
        }
      ]
    },
    {
      "cell_type": "code",
      "source": [
        "if text[-1] == '!':\n",
        "  print('Dont yell at me!')"
      ],
      "metadata": {
        "colab": {
          "base_uri": "https://localhost:8080/"
        },
        "id": "idTq_QSEMxUQ",
        "outputId": "5952f713-2735-436d-aee9-205c1f4320e1"
      },
      "execution_count": 69,
      "outputs": [
        {
          "output_type": "stream",
          "name": "stdout",
          "text": [
            "Dont yell at me!\n"
          ]
        }
      ]
    },
    {
      "cell_type": "code",
      "source": [
        "with open('girls.txt') as f:\n",
        "  names_f = f.read()\n",
        "  names = names_f.splitlines()"
      ],
      "metadata": {
        "id": "oXlZT922NATT"
      },
      "execution_count": 71,
      "outputs": []
    },
    {
      "cell_type": "code",
      "source": [
        "names"
      ],
      "metadata": {
        "colab": {
          "base_uri": "https://localhost:8080/"
        },
        "id": "nfHDSqc5OIMB",
        "outputId": "5547a524-2369-4112-8e3f-cd90e2012b37"
      },
      "execution_count": 73,
      "outputs": [
        {
          "output_type": "execute_result",
          "data": {
            "text/plain": [
              "['Olivia',\n",
              " 'Emma',\n",
              " 'Charlotte',\n",
              " 'Amelia',\n",
              " 'Ava',\n",
              " 'Sophia',\n",
              " 'Isabella',\n",
              " 'Mia',\n",
              " 'Evelyn',\n",
              " 'Harper',\n",
              " 'Luna',\n",
              " 'Camila',\n",
              " 'Gianna',\n",
              " 'Elizabeth',\n",
              " 'Eleanor',\n",
              " 'Ella',\n",
              " 'Abigail',\n",
              " 'Sofia',\n",
              " 'Avery',\n",
              " 'Scarlett',\n",
              " 'Emily',\n",
              " 'Aria',\n",
              " 'Penelope',\n",
              " 'Chloe',\n",
              " 'Layla',\n",
              " 'Mila',\n",
              " 'Nora',\n",
              " 'Hazel',\n",
              " 'Madison',\n",
              " 'Ellie',\n",
              " 'Lily',\n",
              " 'Nova',\n",
              " 'Isla',\n",
              " 'Grace',\n",
              " 'Violet',\n",
              " 'Aurora',\n",
              " 'Riley',\n",
              " 'Zoey',\n",
              " 'Willow',\n",
              " 'Emilia',\n",
              " 'Stella',\n",
              " 'Zoe',\n",
              " 'Victoria',\n",
              " 'Hannah',\n",
              " 'Addison',\n",
              " 'Leah',\n",
              " 'Lucy',\n",
              " 'Eliana',\n",
              " 'Ivy',\n",
              " 'Everly',\n",
              " 'Lillian',\n",
              " 'Paisley',\n",
              " 'Elena',\n",
              " 'Naomi',\n",
              " 'Maya',\n",
              " 'Natalie',\n",
              " 'Kinsley',\n",
              " 'Delilah',\n",
              " 'Claire',\n",
              " 'Audrey',\n",
              " 'Aaliyah',\n",
              " 'Ruby',\n",
              " 'Brooklyn',\n",
              " 'Alice',\n",
              " 'Aubrey',\n",
              " 'Autumn',\n",
              " 'Leilani',\n",
              " 'Savannah',\n",
              " 'Valentina',\n",
              " 'Kennedy',\n",
              " 'Madelyn',\n",
              " 'Josephine',\n",
              " 'Bella',\n",
              " 'Skylar',\n",
              " 'Genesis',\n",
              " 'Sophie',\n",
              " 'Hailey',\n",
              " 'Sadie',\n",
              " 'Natalia',\n",
              " 'Quinn',\n",
              " 'Caroline',\n",
              " 'Allison',\n",
              " 'Gabriella',\n",
              " 'Anna',\n",
              " 'Serenity',\n",
              " 'Nevaeh',\n",
              " 'Cora',\n",
              " 'Ariana',\n",
              " 'Emery',\n",
              " 'Lydia',\n",
              " 'Jade',\n",
              " 'Sarah',\n",
              " 'Eva',\n",
              " 'Adeline',\n",
              " 'Madeline',\n",
              " 'Piper',\n",
              " 'Rylee',\n",
              " 'Athena',\n",
              " 'Peyton']"
            ]
          },
          "metadata": {},
          "execution_count": 73
        }
      ]
    },
    {
      "cell_type": "code",
      "source": [
        "type(names)"
      ],
      "metadata": {
        "colab": {
          "base_uri": "https://localhost:8080/"
        },
        "id": "GSLBTrDbOLV5",
        "outputId": "ddf01ef7-95da-408a-ec66-9917b159a37e"
      },
      "execution_count": 74,
      "outputs": [
        {
          "output_type": "execute_result",
          "data": {
            "text/plain": [
              "list"
            ]
          },
          "metadata": {},
          "execution_count": 74
        }
      ]
    },
    {
      "cell_type": "markdown",
      "source": [
        "# Homework"
      ],
      "metadata": {
        "id": "Lx16dYTpgqkj"
      }
    },
    {
      "cell_type": "code",
      "source": [
        "with open('boys.txt') as f:\n",
        "  names_f = f.read()\n",
        "  names = names_f.splitlines()"
      ],
      "metadata": {
        "id": "O76tvR-3OSnj"
      },
      "execution_count": 13,
      "outputs": []
    },
    {
      "cell_type": "code",
      "source": [
        "names[:10]"
      ],
      "metadata": {
        "colab": {
          "base_uri": "https://localhost:8080/"
        },
        "id": "t2JxkjoLgzVz",
        "outputId": "2caa27b1-b613-40e6-f370-57b6757f5af9"
      },
      "execution_count": 14,
      "outputs": [
        {
          "output_type": "execute_result",
          "data": {
            "text/plain": [
              "['Liam',\n",
              " 'Noah',\n",
              " 'Oliver',\n",
              " 'Elijah',\n",
              " 'James',\n",
              " 'William',\n",
              " 'Benjamin',\n",
              " 'Lucas',\n",
              " 'Henry',\n",
              " 'Theodore']"
            ]
          },
          "metadata": {},
          "execution_count": 14
        }
      ]
    },
    {
      "cell_type": "code",
      "source": [
        "names.index('Ezekiel')"
      ],
      "metadata": {
        "colab": {
          "base_uri": "https://localhost:8080/"
        },
        "id": "sbtvSGceg4Ci",
        "outputId": "3c315552-a690-4d44-8435-1913655bdc6c"
      },
      "execution_count": 15,
      "outputs": [
        {
          "output_type": "execute_result",
          "data": {
            "text/plain": [
              "52"
            ]
          },
          "metadata": {},
          "execution_count": 15
        }
      ]
    },
    {
      "cell_type": "code",
      "source": [
        "pop = names[:20]\n",
        "pop.sort()"
      ],
      "metadata": {
        "id": "uQecmfP2hEUG"
      },
      "execution_count": 19,
      "outputs": []
    },
    {
      "cell_type": "code",
      "source": [
        "names[-10:]"
      ],
      "metadata": {
        "colab": {
          "base_uri": "https://localhost:8080/"
        },
        "id": "c94oPHbLhow4",
        "outputId": "5dc6e924-2bb8-4b8b-9cd5-3a39bc588a9e"
      },
      "execution_count": 21,
      "outputs": [
        {
          "output_type": "execute_result",
          "data": {
            "text/plain": [
              "['Silas',\n",
              " 'Nicholas',\n",
              " 'Parker',\n",
              " 'Beau',\n",
              " 'Weston',\n",
              " 'Austin',\n",
              " 'Connor',\n",
              " 'Carson',\n",
              " 'Dominic',\n",
              " 'Xavier']"
            ]
          },
          "metadata": {},
          "execution_count": 21
        }
      ]
    },
    {
      "cell_type": "code",
      "source": [],
      "metadata": {
        "id": "h6M_aGdnjSs9"
      },
      "execution_count": null,
      "outputs": []
    }
  ]
}